{
 "cells": [
  {
   "cell_type": "markdown",
   "id": "2a071c3c",
   "metadata": {},
   "source": [
    "## MACHINE LEARNING BASED SPAM EMAIL DETECTION"
   ]
  },
  {
   "cell_type": "markdown",
   "id": "3b827b39",
   "metadata": {},
   "source": [
    "The objective of this project is to build a ML based email spam detector application. We are going to use 4 machine learning algorithms (Logistic regression, Support vector machine classifier (SVM), Random forest, Gradient boosting classifier) to classify the dateset containing spam and ham emails into their respective labels.\n",
    "\n",
    "* We start with exploring the data and understanding the structure of the emails and their content. \n",
    "* The data is then cleaned by removing any punctuation or special characters so these don't contribute to the noise in the model.\n",
    "* We then define a few functions to convert all the email content to plain text and build a dataframe out of it.\n",
    "* Then we proceed to build the machine learning models by vectorizing the text using the TFIDF vectorizer and feeding the data into them.\n",
    "* Since the data classes are unbalanced we evaluate each model based on different performance metrics (majorly the F-1 score and the AUC ROC scores). After selecting the best model, it is finally evaluated on the test set. \n",
    "\n",
    "We observed that SVM-TFIDF vectorizer model perofomed the best with:\n",
    "Precision:0.939,\n",
    "Recall:0.991,\n",
    "F1 score:0.964,\n",
    "accuracy:0.989515,\n",
    "AUC:0.990027.\n",
    "\n",
    "The summary of the classification performance of all the mmodels used is as follows:\n",
    "\n",
    "| Model     | Precision | Recall  | F1 | Accuracy |AUC|\n",
    "| ----------- | ----------- |--  |--|--|--|\n",
    "| TFIDF vectorizer with LogisticRegression      | 1.000       |0.972   |0.986  |0.996068  |0.986111  |\n",
    "| TFIDF vectorizer with SVM   | 0.939        |  0.991 |0.964  | 0.989515 |0.990027  |\n",
    "| TFIDF Vectorizer with Random Forest Classifier            |  1.000           | 0.935   | 0.967 |0.99082  | 0.967593 |\n",
    "| TFIDF Vectorizer with GradientBoosting Classifier            |   0.812          |   0.880 | 0.844 |0.954128  | 0.923021 |\n"
   ]
  },
  {
   "cell_type": "markdown",
   "id": "61c041b6",
   "metadata": {},
   "source": [
    "### Importing required libraries"
   ]
  },
  {
   "cell_type": "code",
   "execution_count": 173,
   "id": "e1787154",
   "metadata": {},
   "outputs": [],
   "source": [
    "import numpy as np\n",
    "import pandas as pd\n",
    "import os\n",
    "import email\n",
    "import email.policy\n",
    "from bs4 import BeautifulSoup\n",
    "from sklearn.linear_model import LogisticRegression\n",
    "from sklearn.svm import SVC\n",
    "from sklearn.ensemble import RandomForestClassifier\n",
    "\n",
    "from sklearn.feature_extraction.text import TfidfVectorizer\n",
    "from sklearn.metrics import roc_auc_score\n",
    "from sklearn.feature_extraction.text import CountVectorizer\n",
    "from sklearn.pipeline import make_pipeline\n",
    "from sklearn.model_selection import GridSearchCV\n",
    "from sklearn.metrics import precision_score, recall_score, accuracy_score,roc_curve\n",
    "from sklearn.ensemble import GradientBoostingClassifier\n",
    "from tqdm.notebook import tqdm \n"
   ]
  },
  {
   "cell_type": "markdown",
   "id": "f6080a4f",
   "metadata": {},
   "source": [
    "## Exploratory data analysis "
   ]
  },
  {
   "cell_type": "markdown",
   "id": "579d210a",
   "metadata": {},
   "source": [
    "#### Checking the structure of our data\n",
    "How many ham/spam emails does our dataset contain?"
   ]
  },
  {
   "cell_type": "code",
   "execution_count": 100,
   "id": "aab6ca9e",
   "metadata": {},
   "outputs": [
    {
     "name": "stdout",
     "output_type": "stream",
     "text": [
      "Total number of ham emails:  2551\n",
      "Total number of spam emails:  501\n",
      "Spam proportion:  16.41546526867628\n"
     ]
    }
   ],
   "source": [
    "ham_filenames = [name for name in sorted(os.listdir('ham')) if len(name) > 20]\n",
    "spam_filenames = [name for name in sorted(os.listdir('spam')) if len(name) > 20]\n",
    "print('Total number of ham emails: ',len(ham_filenames))\n",
    "print('Total number of spam emails: ',len(spam_filenames))\n",
    "print('Spam proportion: ',100*(len(spam_filenames)/(len(ham_filenames)+len(spam_filenames))))"
   ]
  },
  {
   "cell_type": "markdown",
   "id": "28910832",
   "metadata": {},
   "source": [
    "#### Checking the structure of a sample email"
   ]
  },
  {
   "cell_type": "code",
   "execution_count": 99,
   "id": "e1a25ac8",
   "metadata": {
    "scrolled": true
   },
   "outputs": [
    {
     "name": "stdout",
     "output_type": "stream",
     "text": [
      "Header field names:  ['Return-Path', 'Delivered-To', 'Received', 'Received', 'Received', 'Received', 'Delivered-To', 'Received', 'Received', 'Received', 'Received', 'Received', 'Received', 'From', 'To', 'Cc', 'Subject', 'In-Reply-To', 'References', 'MIME-Version', 'Content-Type', 'Message-Id', 'X-Loop', 'Sender', 'Errors-To', 'X-Beenthere', 'X-Mailman-Version', 'Precedence', 'List-Help', 'List-Post', 'List-Subscribe', 'List-Id', 'List-Unsubscribe', 'List-Archive', 'Date']\n",
      "\n",
      " \n",
      "\n",
      "Message field values:  ['<exmh-workers-admin@example.com>', 'zzzz@localhost.netnoteinc.com', 'from localhost (localhost [127.0.0.1])\\tby phobos.labs.netnoteinc.com (Postfix) with ESMTP id D03E543C36\\tfor <zzzz@localhost>; Thu, 22 Aug 2002 07:36:16 -0400 (EDT)', 'from phobos [127.0.0.1]\\tby localhost with IMAP (fetchmail-5.9.0)\\tfor zzzz@localhost (single-drop); Thu, 22 Aug 2002 12:36:16 +0100 (IST)', 'from listman.example.com (listman.example.com [66.187.233.211]) by    dogma.slashnull.org (8.11.6/8.11.6) with ESMTP id g7MBYrZ04811 for    <zzzz-exmh@example.com>; Thu, 22 Aug 2002 12:34:53 +0100', 'from listman.example.com (localhost.localdomain [127.0.0.1]) by    listman.redhat.com (Postfix) with ESMTP id 8386540858; Thu, 22 Aug 2002    07:35:02 -0400 (EDT)', 'exmh-workers@listman.example.com', 'from int-mx1.corp.example.com (int-mx1.corp.example.com    [172.16.52.254]) by listman.redhat.com (Postfix) with ESMTP id 10CF8406D7    for <exmh-workers@listman.redhat.com>; Thu, 22 Aug 2002 07:34:10 -0400    (EDT)', '(from mail@localhost) by int-mx1.corp.example.com (8.11.6/8.11.6)    id g7MBY7g11259 for exmh-workers@listman.redhat.com; Thu, 22 Aug 2002    07:34:07 -0400', 'from mx1.example.com (mx1.example.com [172.16.48.31]) by    int-mx1.corp.redhat.com (8.11.6/8.11.6) with SMTP id g7MBY7Y11255 for    <exmh-workers@redhat.com>; Thu, 22 Aug 2002 07:34:07 -0400', 'from ratree.psu.ac.th ([202.28.97.6]) by mx1.example.com    (8.11.6/8.11.6) with SMTP id g7MBIhl25223 for <exmh-workers@redhat.com>;    Thu, 22 Aug 2002 07:18:55 -0400', 'from delta.cs.mu.OZ.AU (delta.coe.psu.ac.th [172.30.0.98]) by    ratree.psu.ac.th (8.11.6/8.11.6) with ESMTP id g7MBWel29762;    Thu, 22 Aug 2002 18:32:40 +0700 (ICT)', 'from munnari.OZ.AU (localhost [127.0.0.1]) by delta.cs.mu.OZ.AU    (8.11.6/8.11.6) with ESMTP id g7MBQPW13260; Thu, 22 Aug 2002 18:26:25    +0700 (ICT)', 'Robert Elz <kre@munnari.OZ.AU>', 'Chris Garrigues <cwg-dated-1030377287.06fa6d@DeepEddy.Com>', 'exmh-workers@example.com', 'Re: New Sequences Window', '<1029945287.4797.TMDA@deepeddy.vircio.com>', '<1029945287.4797.TMDA@deepeddy.vircio.com>    <1029882468.3116.TMDA@deepeddy.vircio.com> <9627.1029933001@munnari.OZ.AU>    <1029943066.26919.TMDA@deepeddy.vircio.com>    <1029944441.398.TMDA@deepeddy.vircio.com>', '1.0', 'text/plain; charset=\"us-ascii\"', '<13258.1030015585@munnari.OZ.AU>', 'exmh-workers@example.com', 'exmh-workers-admin@example.com', 'exmh-workers-admin@example.com', 'exmh-workers@example.com', '2.0.1', 'bulk', '<mailto:exmh-workers-request@example.com?subject=help>', '<mailto:exmh-workers@example.com>', '<https://listman.example.com/mailman/listinfo/exmh-workers>,    <mailto:exmh-workers-request@redhat.com?subject=subscribe>', 'Discussion list for EXMH developers <exmh-workers.example.com>', '<https://listman.example.com/mailman/listinfo/exmh-workers>,    <mailto:exmh-workers-request@redhat.com?subject=unsubscribe>', '<https://listman.example.com/mailman/private/exmh-workers/>', 'Thu, 22 Aug 2002 18:26:25 +0700']\n",
      "\n",
      " \n",
      "\n",
      "Message content:     Date:        Wed, 21 Aug 2002 10:54:46 -0500\n",
      "    From:        Chris Garrigues <cwg-dated-1030377287.06fa6d@DeepEddy.Com>\n",
      "    Message-ID:  <1029945287.4797.TMDA@deepeddy.vircio.com>\n",
      "\n",
      "\n",
      "  | I can't reproduce this error.\n",
      "\n",
      "For me it is very repeatable... (like every time, without fail).\n",
      "\n",
      "This is the debug log of the pick happening ...\n",
      "\n",
      "18:19:03 Pick_It {exec pick +inbox -list -lbrace -lbrace -subject ftp -rbrace -rbrace} {4852-4852 -sequence mercury}\n",
      "18:19:03 exec pick +inbox -list -lbrace -lbrac\n"
     ]
    }
   ],
   "source": [
    "#Using email.parser: https://docs.python.org/3/library/email.parser.html\n",
    "#\"The email package provides a standard parser that understands most email document structures, including MIME documents\"\n",
    "\n",
    "with open(os.path.join('ham', ham_filenames[0]), \"rb\") as file:\n",
    "    ham_email =  email.parser.BytesParser(policy=email.policy.default).parse(file)\n",
    "\n",
    "print('Header field names: ',ham_email.keys())\n",
    "print('\\n \\n')\n",
    "print('Message field values: ',ham_email.values())\n",
    "print('\\n \\n')\n",
    "print('Message content:',ham_email.get_content()[:500])"
   ]
  },
  {
   "cell_type": "code",
   "execution_count": 9,
   "id": "432b4f21",
   "metadata": {},
   "outputs": [
    {
     "name": "stdout",
     "output_type": "stream",
     "text": [
      "Email from:  ['Robert Elz <kre@munnari.OZ.AU>']\n",
      "Email to:  ['Chris Garrigues <cwg-dated-1030377287.06fa6d@DeepEddy.Com>']\n",
      "Email subject:  ['Re: New Sequences Window']\n"
     ]
    }
   ],
   "source": [
    "#Let's try and extract some objects in the emails\n",
    "\n",
    "email_subject = ham_email.get_all('Subject')\n",
    "email_from = ham_email.get_all('From')\n",
    "email_to = ham_email.get_all('To')\n",
    "\n",
    "print('Email from: ',email_from)\n",
    "print('Email to: ',email_to)\n",
    "print('Email subject: ',email_subject)"
   ]
  },
  {
   "cell_type": "code",
   "execution_count": 103,
   "id": "2142730e",
   "metadata": {},
   "outputs": [],
   "source": [
    "def extract_ham(filename):\n",
    "    \"\"\"This function process a ham email file located at a specified directory and returns it as an email object\"\"\"\n",
    "    with open(os.path.join('ham', filename), \"rb\") as file:\n",
    "        return email.parser.BytesParser(policy=email.policy.default).parse(file)\n",
    "\n",
    "def extract_spam(filename):\n",
    "    \"\"\"This function process a spam email file located at a specified directory and returns it as an email object\"\"\"\n",
    "    with open(os.path.join('spam', filename), \"rb\") as file:\n",
    "        return email.parser.BytesParser(policy=email.policy.default).parse(file)\n",
    "    \n",
    "ham_emails = [extract_ham(filename=ham) for ham in ham_filenames]\n",
    "spam_emails = [extract_spam(filename=spam) for spam in spam_filenames]"
   ]
  },
  {
   "cell_type": "code",
   "execution_count": 104,
   "id": "d0952522",
   "metadata": {
    "scrolled": true
   },
   "outputs": [
    {
     "name": "stdout",
     "output_type": "stream",
     "text": [
      "['Re: New Sequences Window']\n",
      "    Date:        Wed, 21 Aug 2002 10:54:46 -0500\n",
      "    From:        Chris Garrigues <cwg-dated-1030377287.06fa6d@DeepEddy.Com>\n",
      "    Message-ID:  <1029945287.4797.TMDA@deepeddy.vircio.com>\n",
      "\n",
      "\n",
      "  | I can't reproduce this error.\n",
      "\n",
      "For me it is very repeatable... (like every time, without fail).\n",
      "\n",
      "This is the debug log of the pick happening ...\n",
      "\n",
      "18:19:03 Pick_It {exec pick +inbox -list -lbrace -lbrace -subject ftp -rbrace -rbrace} {4852-4852 -sequence mercury}\n",
      "18:19:03 exec pick +inbox -list -lbrace -lbrace -subject ftp -rbrace -rbrace 4852-4852 -sequence mercury\n",
      "18:19:04 Ftoc_PickMsgs {{1 hit}}\n",
      "18:19:04 Marking 1 hits\n",
      "18:19:04 tkerror: syntax error in expression \"int ...\n",
      "\n",
      "Note, if I run the pick command by hand ...\n",
      "\n",
      "delta$ pick +inbox -list -lbrace -lbrace -subject ftp -rbrace -rbrace  4852-4852 -sequence mercury\n",
      "1 hit\n",
      "\n",
      "That's where the \"1 hit\" comes from (obviously).  The version of nmh I'm\n",
      "using is ...\n",
      "\n",
      "delta$ pick -version\n",
      "pick -- nmh-1.0.4 [compiled on fuchsia.cs.mu.OZ.AU at Sun Mar 17 14:55:56 ICT 2002]\n",
      "\n",
      "And the relevant part of my .mh_profile ...\n",
      "\n",
      "delta$ mhparam pick\n",
      "-seq sel -list\n",
      "\n",
      "\n",
      "Since the pick command works, the sequence (actually, both of them, the\n",
      "one that's explicit on the command line, from the search popup, and the\n",
      "one that comes from .mh_profile) do get created.\n",
      "\n",
      "kre\n",
      "\n",
      "ps: this is still using the version of the code form a day ago, I haven't\n",
      "been able to reach the cvs repository today (local routing issue I think).\n",
      "\n",
      "\n",
      "\n",
      "_______________________________________________\n",
      "Exmh-workers mailing list\n",
      "Exmh-workers@redhat.com\n",
      "https://listman.redhat.com/mailman/listinfo/exmh-workers\n",
      "\n",
      "\n",
      "\n",
      "\n",
      " -----------------------------------------------------------\n",
      "\n",
      "\n",
      "['Life Insurance - Why Pay More?']\n",
      "<!DOCTYPE HTML PUBLIC \"-//W3C//DTD HTML 4.0 Transitional//EN\">\n",
      "<HTML><HEAD>\n",
      "<META content=\"text/html; charset=windows-1252\" http-equiv=Content-Type>\n",
      "<META content=\"MSHTML 5.00.2314.1000\" name=GENERATOR></HEAD>\n",
      "<BODY><!-- Inserted by Calypso -->\n",
      "<TABLE border=0 cellPadding=0 cellSpacing=2 id=_CalyPrintHeader_ rules=none \n",
      "style=\"COLOR: black; DISPLAY: none\" width=\"100%\">\n",
      "  <TBODY>\n",
      "  <TR>\n",
      "    <TD colSpan=3>\n",
      "      <HR color=black noShade SIZE=1>\n",
      "    </TD></TR></TD></TR>\n",
      "  <TR>\n",
      "    <TD colSpan=3>\n",
      "      <HR color=black noShade SIZE=1>\n",
      "    </TD></TR></TBODY></TABLE><!-- End Calypso --><!-- Inserted by Calypso --><FONT \n",
      "color=#000000 face=VERDANA,ARIAL,HELVETICA size=-2><BR></FONT></TD></TR></TABLE><!-- End Calypso --><FONT color=#ff0000 \n",
      "face=\"Copperplate Gothic Bold\" size=5 PTSIZE=\"10\">\n",
      "<CENTER>Save up to 70% on Life Insurance.</CENTER></FONT><FONT color=#ff0000 \n",
      "face=\"Copperplate Gothic Bold\" size=5 PTSIZE=\"10\">\n",
      "<CENTER>Why Spend More Than You Have To?\n",
      "<CENTER><FONT color=#ff0000 face=\"Copperplate Gothic Bold\" size=5 PTSIZE=\"10\">\n",
      "<CENTER>Life Quote Savings\n",
      "<CENTER>\n",
      "<P align=left></P>\n",
      "<P align=left></P></FONT></U></I></B><BR></FONT></U></B></U></I>\n",
      "<P></P>\n",
      "<CENTER>\n",
      "<TABLE border=0 borderColor=#111111 cellPadding=0 cellSpacing=0 width=650>\n",
      "  <TBODY></TBODY></TABLE>\n",
      "<TABLE border=0 borderColor=#111111 cellPadding=5 cellSpacing=0 width=650>\n",
      "  <TBODY>\n",
      "  <TR>\n",
      "    <TD colSpan=2 width=\"35%\"><B><FONT face=Verdana size=4>Ensuring your \n",
      "      family's financial security is very important. Life Quote Savings makes \n",
      "      buying life insurance simple and affordable. We Provide FREE Access to The \n",
      "      Very Best Companies and The Lowest Rates.</FONT></B></TD></TR>\n",
      "  <TR>\n",
      "    <TD align=middle vAlign=top width=\"18%\">\n",
      "      <TABLE borderColor=#111111 width=\"100%\">\n",
      "        <TBODY>\n",
      "        <TR>\n",
      "          <TD style=\"PADDING-LEFT: 5px; PADDING-RIGHT: 5px\" width=\"100%\"><FONT \n",
      "            face=Verdana size=4><B>Life Quote Savings</B> is FAST, EASY and \n",
      "            SAVES you money! Let us help you get started with the best values in \n",
      "            the country on new coverage. You can SAVE hundreds or even thousands \n",
      "            of dollars by requesting a FREE quote from Lifequote Savings. Our \n",
      "            service will take you less than 5 minutes to complete. Shop and \n",
      "            compare. SAVE up to 70% on all types of Life insurance! \n",
      "</FONT></TD></TR>\n",
      "        <TR><BR><BR>\n",
      "          <TD height=50 style=\"PADDING-LEFT: 5px; PADDING-RIGHT: 5px\" \n",
      "          width=\"100%\">\n",
      "            <P align=center><B><FONT face=Verdana size=5><A \n",
      "            href=\"http://website.e365.cc/savequote/\">Click Here For Your \n",
      "            Free Quote!</A></FONT></B></P></TD>\n",
      "          <P><FONT face=Verdana size=4><STRONG>\n",
      "          <CENTER>Protecting your family is the best investment you'll ever \n",
      "          make!<BR></B></TD></TR>\n",
      "        <TR><BR><BR></STRONG></FONT></TD></TR></TD></TR>\n",
      "        <TR></TR></TBODY></TABLE>\n",
      "      <P align=left><FONT face=\"Arial, Helvetica, sans-serif\" size=2></FONT></P>\n",
      "      <P></P>\n",
      "      <CENTER><BR><BR><BR>\n",
      "      <P></P>\n",
      "      <P align=left><BR></B><BR><BR><BR><BR></P>\n",
      "      <P align=center><BR></P>\n",
      "      <P align=left><BR></B><BR><BR></FONT>If you are in receipt of this email \n",
      "      in error and/or wish to be removed from our list, <A \n",
      "      href=\"mailto:coins@btamail.net.cn\">PLEASE CLICK HERE</A> AND TYPE REMOVE. If you \n",
      "      reside in any state which prohibits e-mail solicitations for insurance, \n",
      "      please disregard this \n",
      "      email.<BR></FONT><BR><BR><BR><BR><BR><BR><BR><BR><BR><BR><BR><BR><BR><BR><BR><BR></FONT></P></CENTER></CENTER></TR></TBODY></TABLE></CENTER></CENTER></CENTER></CENTER></CENTER></BODY></HTML>\n",
      "\n",
      "\n",
      "\n",
      "\n"
     ]
    }
   ],
   "source": [
    "#Checking if the data is extracted properly\n",
    "\n",
    "print(ham_emails[0].get_all('Subject'))\n",
    "print(ham_emails[0].get_content())\n",
    "print('\\n\\n -----------------------------------------------------------\\n\\n')\n",
    "print(spam_emails[1].get_all('Subject'))\n",
    "print(spam_emails[1].get_content())"
   ]
  },
  {
   "cell_type": "markdown",
   "id": "71d6878d",
   "metadata": {},
   "source": [
    "## Converting emails to plain text\n",
    "We can observe from the above code cell that there are some emails with the HTML format. We need to convert them to plain text."
   ]
  },
  {
   "cell_type": "code",
   "execution_count": 105,
   "id": "a2ad55df",
   "metadata": {},
   "outputs": [
    {
     "name": "stdout",
     "output_type": "stream",
     "text": [
      "Ham content types:  {'multipart/signed', 'multipart/report', 'multipart/mixed', 'text/plain', 'multipart/related', 'multipart/alternative'}\n",
      "Spam content types:  {'multipart/mixed', 'text/plain', 'multipart/related', 'multipart/alternative', 'text/html'}\n"
     ]
    }
   ],
   "source": [
    "#checking for the content types in the emails\n",
    "\n",
    "ham_email_types = []\n",
    "spam_email_types = []\n",
    "\n",
    "for i in range(len(ham_filenames)):\n",
    "    ham_email_types.append(ham_emails[i].get_content_type())\n",
    "\n",
    "for i in range(len(spam_filenames)):\n",
    "    spam_email_types.append(spam_emails[i].get_content_type())\n",
    "\n",
    "print('Ham content types: ',set(ham_email_types))\n",
    "print('Spam content types: ',set(spam_email_types))"
   ]
  },
  {
   "cell_type": "markdown",
   "id": "9d51e53b",
   "metadata": {},
   "source": [
    "#### checking the structure of these multipart emails"
   ]
  },
  {
   "cell_type": "code",
   "execution_count": 106,
   "id": "a23f579b",
   "metadata": {},
   "outputs": [],
   "source": [
    "def email_content_type(email):\n",
    "    \"\"\"This function returns the content type of an email and if it has a multipart shape then returns the multiparts type\"\"\"\n",
    "    if isinstance(email, str):\n",
    "        return email\n",
    "    payload = email.get_payload()\n",
    "    if isinstance(payload, list):\n",
    "        return \"multipart({})\".format(\", \".join([email_content_type(sub_email) for sub_email in payload]))\n",
    "    else:\n",
    "        return email.get_content_type()"
   ]
  },
  {
   "cell_type": "code",
   "execution_count": 21,
   "id": "03fce657",
   "metadata": {
    "scrolled": true
   },
   "outputs": [
    {
     "name": "stdout",
     "output_type": "stream",
     "text": [
      "Ham content types:  {'multipart(text/plain, text/enriched)', 'multipart(text/plain, application/octet-stream)', 'multipart(text/plain, multipart(text/plain, text/plain), multipart(multipart(text/plain, application/x-pkcs7-signature)))', 'multipart(text/plain, application/x-pkcs7-signature)', 'multipart(text/plain, video/mng)', 'multipart(text/plain, multipart(text/plain, text/plain), text/rfc822-headers)', 'multipart(text/plain)', 'multipart(text/plain, text/html)', 'multipart(text/plain, application/pgp-signature)', 'text/plain', 'multipart(text/plain, multipart(text/plain))', 'multipart(text/plain, application/ms-tnef, text/plain)', 'multipart(text/plain, text/plain)', 'multipart(text/plain, application/x-java-applet)', 'multipart(multipart(text/plain, text/plain, text/plain), application/pgp-signature)'}\n",
      "\n",
      "\n",
      "Spam content types:  {'multipart(text/plain, application/octet-stream)', 'multipart(text/html, text/plain)', 'multipart(text/html, application/octet-stream)', 'multipart(multipart(text/plain, text/html), image/gif)', 'multipart(text/plain)', 'multipart(text/plain, text/html)', 'multipart(multipart(text/html), application/octet-stream, image/jpeg)', 'multipart(text/html)', 'text/plain', 'multipart/alternative', 'multipart(text/plain, image/jpeg)', 'text/html', 'multipart(multipart(text/html))'}\n"
     ]
    }
   ],
   "source": [
    "ham_email_types = []\n",
    "spam_email_types = []\n",
    "\n",
    "for i in range(len(ham_filenames)):\n",
    "    ham_email_types.append(email_content_type(ham_emails[i]))\n",
    "\n",
    "for i in range(len(spam_filenames)):\n",
    "    spam_email_types.append(email_content_type(spam_emails[i]))\n",
    "\n",
    "print('Ham content types: ',set(ham_email_types))\n",
    "\n",
    "print('\\n')\n",
    "\n",
    "print('Spam content types: ',set(spam_email_types))"
   ]
  },
  {
   "cell_type": "markdown",
   "id": "b6400934",
   "metadata": {},
   "source": [
    "#### Transforming all html emails to plain text format using BeautifulSoup"
   ]
  },
  {
   "cell_type": "code",
   "execution_count": 109,
   "id": "02a35d67",
   "metadata": {
    "scrolled": true
   },
   "outputs": [
    {
     "name": "stdout",
     "output_type": "stream",
     "text": [
      "ReliaQuote - Save Up To 70% On Life Insurance\n",
      " \n",
      "Life\n",
      "                                can change in an instant. That's why it is so\n",
      "                                important to protect your family's financial future\n",
      "                                with sufficient life insurance coverage.State\n",
      "                          of Residence:Select State\n",
      "Alabama\n",
      "Alaska\n",
      "Arizona\n",
      "Arkansas\n",
      "California\n",
      "Colorado\n",
      "Connecticut\n",
      "Delaware\n",
      "Dist. of Columbia\n",
      "Florida\n",
      "Georgia\n",
      "Hawaii\n",
      "Idaho\n",
      "Illinois\n",
      "Indiana\n",
      "Iowa\n",
      "Kansas\n",
      "Kentucky\n",
      "Louisiana\n",
      "Maine\n",
      "Maryland\n",
      "Massachusetts\n",
      "Michigan\n",
      "Minnesota\n",
      "Mississippi\n",
      "Missouri\n",
      "Montana\n",
      "Nebraska\n",
      "Nevada\n",
      "New Hampshire\n",
      "New Jersey\n",
      "New Mexico\n",
      "New York\n",
      "North Carolina\n",
      "North Dakota\n",
      "Ohio\n",
      "Oklahoma\n",
      "Oregon\n",
      "Pennsylvania\n",
      "Rhode Island\n",
      "South Carolina\n",
      "South Dakota\n",
      "Tennessee\n",
      "Texas\n",
      "Utah\n",
      "Vermont\n",
      "Virginia\n",
      "Washington\n",
      "West Virginia\n",
      "Wisconsin\n",
      "Wyoming\n",
      "Date\n",
      "                          of Birth (MM/DD/YY):\n",
      " MM\n",
      "01\n",
      "02\n",
      "03\n",
      "04\n",
      "05\n",
      "06\n",
      "07\n",
      "08\n",
      "09\n",
      "10\n",
      "11\n",
      "12                          /\n",
      "                          \n",
      "DD\n",
      "01\n",
      "02\n",
      "03\n",
      "04\n",
      "05\n",
      "06\n",
      "07\n",
      "08\n",
      "09\n",
      "10\n",
      "11\n",
      "12\n",
      "13\n",
      "14\n",
      "15\n",
      "16\n",
      "17\n",
      "18\n",
      "19\n",
      "20\n",
      "21\n",
      "22\n",
      "23\n",
      "24\n",
      "25\n",
      "26\n",
      "27\n",
      "28\n",
      "29\n",
      "30\n",
      "31                          /\n",
      "                          \n",
      "YY\n",
      "13\n",
      "14\n",
      "15\n",
      "16\n",
      "17\n",
      "18\n",
      "19\n",
      "20\n",
      "21\n",
      "22\n",
      "23\n",
      "24\n",
      "25\n",
      "26\n",
      "27\n",
      "28\n",
      "29\n",
      "30\n",
      "31\n",
      "32\n",
      "33\n",
      "34\n",
      "35\n",
      "36\n",
      "37\n",
      "38\n",
      "39\n",
      "40\n",
      "41\n",
      "42\n",
      "43\n",
      "44\n",
      "45\n",
      "46\n",
      "47\n",
      "48\n",
      "49\n",
      "50\n",
      "51\n",
      "52\n",
      "53\n",
      "54\n",
      "55\n",
      "56\n",
      "57\n",
      "58\n",
      "59\n",
      "60\n",
      "61\n",
      "62\n",
      "63\n",
      "64\n",
      "65\n",
      "66\n",
      "67\n",
      "68\n",
      "69\n",
      "70\n",
      "71\n",
      "72\n",
      "73\n",
      "74\n",
      "75\n",
      "76\n",
      "77\n",
      "78\n",
      "79\n",
      "80\n",
      "81\n",
      "82\n",
      "83\n",
      "84\n",
      "Sex:\n",
      "                                 Male\n",
      "                                 Female\n",
      "Have\n",
      "                          you used any tobacco products in the last 12 months?\n",
      "                                 No\n",
      "                                 Yes\n",
      "Coverage\n",
      "                          Amount:Select Amount\n",
      "100,000\n",
      "125,000\n",
      "150,000\n",
      "175,000\n",
      "200,000\n",
      "225,000\n",
      "250,000\n",
      "275,000\n",
      "300,000\n",
      "325,000\n",
      "350,000\n",
      "375,000\n",
      "400,000\n",
      "425,000\n",
      "450,000\n",
      "475,000\n",
      "500,000\n",
      "550,000\n",
      "600,000\n",
      "650,000\n",
      "700,000\n",
      "750,000\n",
      "800,000\n",
      "850,000\n",
      "900,000\n",
      "950,000\n",
      "1,000,000\n",
      "1,250,000\n",
      "1,500,000\n",
      "1,750,000\n",
      "2,000,000\n",
      "2,250,000\n",
      "2,500,000\n",
      "3,000,000\n",
      "3,500,000\n",
      "4,000,000\n",
      "4,500,000\n",
      "5,000,000\n",
      "6,000,000\n",
      "7,000,000\n",
      "8,000,000\n",
      "9,000,000\n",
      "10,000,000\n",
      "11,000,000\n",
      "12,000,000\n",
      "13,000,000\n",
      "14,000,000\n",
      "15,000,000\n",
      "How\n",
      "                          long do you need the coverage?Select Year\n",
      "5 Years\n",
      "10 Years\n",
      "15 Years\n",
      "20 Years\n",
      "25 Years\n",
      "30 Years\n",
      "  \n",
      "ReliaQuote\n",
      "                    makes it easy and affordable. We can instantly provide you\n",
      "                    with free quotes from highly rated insurance companies. \n",
      "Save\n",
      "                        up toon\n",
      "                        Life Insurance\n",
      "Compare quotes today.                  There is nothing more \n",
      "                  important than protecting \n",
      "                  their future.\n",
      "Copyright 2001 ReliaQuote,\n",
      "        Inc.\n",
      "        All rights reserved.\n",
      "You are receiving this mailing because you are a\n",
      "member of SendGreatOffers.com and subscribed as:JM@NETNOTEINC.COM\n",
      "To unsubscribe \n",
      "Click Here\n",
      "(http://admanmail.com/subscription.asp?em=JM@NETNOTEINC.COM&l=SGO)\n",
      "or reply to this email with REMOVE in the subject line - you must\n",
      "also include the body of this message to be unsubscribed. Any correspondence about\n",
      "the products/services should be directed to\n",
      "the company in the ad.\n",
      "%EM%JM@NETNOTEINC.COM%/EM%\n",
      "  \n",
      "\n"
     ]
    }
   ],
   "source": [
    "#testing BS on a sample email\n",
    "from bs4 import BeautifulSoup\n",
    "html = spam_emails[8].get_content()\n",
    "soup = BeautifulSoup(html)\n",
    "print(soup.get_text().replace('\\n\\n',''))"
   ]
  },
  {
   "cell_type": "markdown",
   "id": "c473149c",
   "metadata": {},
   "source": [
    "#### Defining a function to convert all html emails to plain text"
   ]
  },
  {
   "cell_type": "code",
   "execution_count": 115,
   "id": "fbd3b76b",
   "metadata": {},
   "outputs": [],
   "source": [
    "def html_to_text(email):\n",
    "    soup = BeautifulSoup(email.get_content())\n",
    "    return soup.get_text().replace('\\n\\n','').replace('\\n',' ') "
   ]
  },
  {
   "cell_type": "markdown",
   "id": "0ca05bfa",
   "metadata": {},
   "source": [
    "#### Converting all the email objects to plain text"
   ]
  },
  {
   "cell_type": "code",
   "execution_count": 113,
   "id": "a3e87a62",
   "metadata": {},
   "outputs": [],
   "source": [
    "#Now all emails which have/contain HTML tags will be converted to plain text\n",
    "\n",
    "def email_to_text(email):\n",
    "    content_type = email_content_type(email)\n",
    "    for part in email.walk(): \n",
    "        #The .walk() documentation at https://docs.python.org/3/library/email.message.html\n",
    "        #\"The walk() method is an all-purpose generator which can be used to iterate over all \n",
    "        #the parts and subparts of a message object tree, in depth-first traversal order.\"\n",
    "        partContentType = part.get_content_type()\n",
    "        if partContentType not in ['text/plain','text/html']:\n",
    "            continue\n",
    "        try:\n",
    "            partContent = part.get_content()\n",
    "        except: \n",
    "            partContent = str(part.get_payload())\n",
    "        if partContentType == 'text/plain':\n",
    "            return partContent\n",
    "        else:\n",
    "            return html_to_text(part)"
   ]
  },
  {
   "cell_type": "markdown",
   "id": "29c3b78f",
   "metadata": {},
   "source": [
    "#### Testing the function on a sample email"
   ]
  },
  {
   "cell_type": "code",
   "execution_count": 120,
   "id": "555ff7d9",
   "metadata": {},
   "outputs": [
    {
     "name": "stdout",
     "output_type": "stream",
     "text": [
      "Save up to 70% on Life Insurance. Why Spend More Than You Have To?Life Quote Savings Ensuring your        family's financial security is very important. Life Quote Savings makes        buying life insurance simple and affordable. We Provide FREE Access to The        Very Best Companies and The Lowest Rates.Life Quote Savings is FAST, EASY and              SAVES you money! Let us help you get started with the best values in              the country on new coverage. You can SAVE hundreds or even thousands              of dollars by requesting a FREE quote from Lifequote Savings. Our              service will take you less than 5 minutes to complete. Shop and              compare. SAVE up to 70% on all types of Life insurance! Click Here For Your              Free Quote!Protecting your family is the best investment you'll ever            make! If you are in receipt of this email        in error and/or wish to be removed from our list, PLEASE CLICK HERE AND TYPE REMOVE. If you        reside in any state which prohibits e-mail solicitations for insurance,        please disregard this        email. \n"
     ]
    }
   ],
   "source": [
    "email_1 = email_to_text(spam_emails[1])\n",
    "print(email_1)"
   ]
  },
  {
   "cell_type": "code",
   "execution_count": 152,
   "id": "28a365c1",
   "metadata": {},
   "outputs": [],
   "source": [
    "#Spam email #226 contains an unknown encoding so we will remove it from the list\n",
    "del spam_emails[226]"
   ]
  },
  {
   "cell_type": "markdown",
   "id": "5ad19666",
   "metadata": {},
   "source": [
    "## Building the dataframe to train the model"
   ]
  },
  {
   "cell_type": "markdown",
   "id": "1887d8e5",
   "metadata": {},
   "source": [
    "we can create a dataframe with the email's content and their particular label. We will use this dataframe in implementing NLP to feed data into the model"
   ]
  },
  {
   "cell_type": "code",
   "execution_count": 153,
   "id": "955aaec8",
   "metadata": {
    "scrolled": false
   },
   "outputs": [
    {
     "data": {
      "text/html": [
       "<div>\n",
       "<style scoped>\n",
       "    .dataframe tbody tr th:only-of-type {\n",
       "        vertical-align: middle;\n",
       "    }\n",
       "\n",
       "    .dataframe tbody tr th {\n",
       "        vertical-align: top;\n",
       "    }\n",
       "\n",
       "    .dataframe thead th {\n",
       "        text-align: right;\n",
       "    }\n",
       "</style>\n",
       "<table border=\"1\" class=\"dataframe\">\n",
       "  <thead>\n",
       "    <tr style=\"text-align: right;\">\n",
       "      <th></th>\n",
       "      <th>Email content</th>\n",
       "      <th>Label</th>\n",
       "    </tr>\n",
       "  </thead>\n",
       "  <tbody>\n",
       "    <tr>\n",
       "      <th>0</th>\n",
       "      <td>Date:        Wed, 21 Aug 2002 10:54:46 -05...</td>\n",
       "      <td>0</td>\n",
       "    </tr>\n",
       "    <tr>\n",
       "      <th>1</th>\n",
       "      <td>Martin A posted:\\nTassos Papadopoulos, the Gre...</td>\n",
       "      <td>0</td>\n",
       "    </tr>\n",
       "    <tr>\n",
       "      <th>2</th>\n",
       "      <td>Man Threatens Explosion In Moscow \\n\\nThursday...</td>\n",
       "      <td>0</td>\n",
       "    </tr>\n",
       "    <tr>\n",
       "      <th>3</th>\n",
       "      <td>Klez: The Virus That Won't Die\\n \\nAlready the...</td>\n",
       "      <td>0</td>\n",
       "    </tr>\n",
       "    <tr>\n",
       "      <th>4</th>\n",
       "      <td>On Wed Aug 21 2002 at 15:46, Ulises Ponce wrot...</td>\n",
       "      <td>0</td>\n",
       "    </tr>\n",
       "  </tbody>\n",
       "</table>\n",
       "</div>"
      ],
      "text/plain": [
       "                                       Email content  Label\n",
       "0      Date:        Wed, 21 Aug 2002 10:54:46 -05...      0\n",
       "1  Martin A posted:\\nTassos Papadopoulos, the Gre...      0\n",
       "2  Man Threatens Explosion In Moscow \\n\\nThursday...      0\n",
       "3  Klez: The Virus That Won't Die\\n \\nAlready the...      0\n",
       "4  On Wed Aug 21 2002 at 15:46, Ulises Ponce wrot...      0"
      ]
     },
     "execution_count": 153,
     "metadata": {},
     "output_type": "execute_result"
    }
   ],
   "source": [
    "ham_data = []\n",
    "spam_data = []\n",
    "\n",
    "#processing HAM data\n",
    "for i in range(len(ham_emails)):\n",
    "    ham_data.append(email_to_text(ham_emails[i]))\n",
    "ham_data = pd.DataFrame(ham_data,columns=['Email content'])\n",
    "ham_data['Label'] = 0\n",
    "\n",
    "#processing SPAM data\n",
    "for i in range(len(spam_emails)):\n",
    "    spam_data.append(email_to_text(spam_emails[i]))\n",
    "spam_data = pd.DataFrame(spam_data,columns=['Email content'])\n",
    "spam_data['Label'] = 1\n",
    "\n",
    "df = pd.concat([ham_data,spam_data])\n",
    "df.head()"
   ]
  },
  {
   "cell_type": "code",
   "execution_count": 154,
   "id": "444da6ed",
   "metadata": {},
   "outputs": [
    {
     "data": {
      "text/plain": [
       "(3050, 2)"
      ]
     },
     "execution_count": 154,
     "metadata": {},
     "output_type": "execute_result"
    }
   ],
   "source": [
    "df.shape"
   ]
  },
  {
   "cell_type": "code",
   "execution_count": 155,
   "id": "2bfaffd7",
   "metadata": {
    "scrolled": true
   },
   "outputs": [
    {
     "data": {
      "text/html": [
       "<div>\n",
       "<style scoped>\n",
       "    .dataframe tbody tr th:only-of-type {\n",
       "        vertical-align: middle;\n",
       "    }\n",
       "\n",
       "    .dataframe tbody tr th {\n",
       "        vertical-align: top;\n",
       "    }\n",
       "\n",
       "    .dataframe thead th {\n",
       "        text-align: right;\n",
       "    }\n",
       "</style>\n",
       "<table border=\"1\" class=\"dataframe\">\n",
       "  <thead>\n",
       "    <tr style=\"text-align: right;\">\n",
       "      <th></th>\n",
       "      <th>Email content</th>\n",
       "      <th>Label</th>\n",
       "    </tr>\n",
       "  </thead>\n",
       "  <tbody>\n",
       "    <tr>\n",
       "      <th>0</th>\n",
       "      <td>\\nAfter my latest cvs up, timtest fails with\\n...</td>\n",
       "      <td>0</td>\n",
       "    </tr>\n",
       "    <tr>\n",
       "      <th>1</th>\n",
       "      <td>On 27 Aug 2002 at 15:00, Rohit Khare wrote:\\n&gt;...</td>\n",
       "      <td>0</td>\n",
       "    </tr>\n",
       "    <tr>\n",
       "      <th>2</th>\n",
       "      <td>Opportunity is knocking. Why?\\n\\nBecause mortg...</td>\n",
       "      <td>1</td>\n",
       "    </tr>\n",
       "    <tr>\n",
       "      <th>3</th>\n",
       "      <td>&gt; From:  Anders Eriksson &lt;aeriksson@fastmail.f...</td>\n",
       "      <td>0</td>\n",
       "    </tr>\n",
       "    <tr>\n",
       "      <th>4</th>\n",
       "      <td>Never Pay Retail!  You can count on Blair.com...</td>\n",
       "      <td>1</td>\n",
       "    </tr>\n",
       "  </tbody>\n",
       "</table>\n",
       "</div>"
      ],
      "text/plain": [
       "                                       Email content  Label\n",
       "0  \\nAfter my latest cvs up, timtest fails with\\n...      0\n",
       "1  On 27 Aug 2002 at 15:00, Rohit Khare wrote:\\n>...      0\n",
       "2  Opportunity is knocking. Why?\\n\\nBecause mortg...      1\n",
       "3  > From:  Anders Eriksson <aeriksson@fastmail.f...      0\n",
       "4   Never Pay Retail!  You can count on Blair.com...      1"
      ]
     },
     "execution_count": 155,
     "metadata": {},
     "output_type": "execute_result"
    }
   ],
   "source": [
    "df = df.dropna()\n",
    "df = df.sample(frac=1).reset_index(drop=True)\n",
    "df.head()"
   ]
  },
  {
   "cell_type": "code",
   "execution_count": 156,
   "id": "ec80de3b",
   "metadata": {},
   "outputs": [
    {
     "data": {
      "text/plain": [
       "(3049, 2)"
      ]
     },
     "execution_count": 156,
     "metadata": {},
     "output_type": "execute_result"
    }
   ],
   "source": [
    "df.shape"
   ]
  },
  {
   "cell_type": "markdown",
   "id": "9e465c48",
   "metadata": {},
   "source": [
    "### Cleaning the dataset\n",
    "Removing the special characeters to avoid clutter and degradation of model performance."
   ]
  },
  {
   "cell_type": "code",
   "execution_count": 157,
   "id": "9ac86f5c",
   "metadata": {},
   "outputs": [
    {
     "data": {
      "text/html": [
       "<div>\n",
       "<style scoped>\n",
       "    .dataframe tbody tr th:only-of-type {\n",
       "        vertical-align: middle;\n",
       "    }\n",
       "\n",
       "    .dataframe tbody tr th {\n",
       "        vertical-align: top;\n",
       "    }\n",
       "\n",
       "    .dataframe thead th {\n",
       "        text-align: right;\n",
       "    }\n",
       "</style>\n",
       "<table border=\"1\" class=\"dataframe\">\n",
       "  <thead>\n",
       "    <tr style=\"text-align: right;\">\n",
       "      <th></th>\n",
       "      <th>Email content</th>\n",
       "      <th>Label</th>\n",
       "    </tr>\n",
       "  </thead>\n",
       "  <tbody>\n",
       "    <tr>\n",
       "      <th>0</th>\n",
       "      <td>After my latest cvs up timtest fails with    ...</td>\n",
       "      <td>0</td>\n",
       "    </tr>\n",
       "    <tr>\n",
       "      <th>1</th>\n",
       "      <td>On 27 Aug 2002 at 15:00 Rohit Khare wrote:    ...</td>\n",
       "      <td>0</td>\n",
       "    </tr>\n",
       "    <tr>\n",
       "      <th>2</th>\n",
       "      <td>Opportunity is knocking. Why  Because mortgage...</td>\n",
       "      <td>1</td>\n",
       "    </tr>\n",
       "    <tr>\n",
       "      <th>3</th>\n",
       "      <td>From:  Anders Eriksson aeriksson@fastmail.fm ...</td>\n",
       "      <td>0</td>\n",
       "    </tr>\n",
       "    <tr>\n",
       "      <th>4</th>\n",
       "      <td>Never Pay Retail  You can count on Blair.com ...</td>\n",
       "      <td>1</td>\n",
       "    </tr>\n",
       "  </tbody>\n",
       "</table>\n",
       "</div>"
      ],
      "text/plain": [
       "                                       Email content  Label\n",
       "0   After my latest cvs up timtest fails with    ...      0\n",
       "1  On 27 Aug 2002 at 15:00 Rohit Khare wrote:    ...      0\n",
       "2  Opportunity is knocking. Why  Because mortgage...      1\n",
       "3   From:  Anders Eriksson aeriksson@fastmail.fm ...      0\n",
       "4   Never Pay Retail  You can count on Blair.com ...      1"
      ]
     },
     "execution_count": 157,
     "metadata": {},
     "output_type": "execute_result"
    }
   ],
   "source": [
    "for i in range(len(df)):\n",
    "    df.at[i,'Email content'] = df.loc[i]['Email content'].replace('!','').replace('?','').replace(',','').replace('[','').replace(']','').replace('(','').replace(')','').replace('...','')\n",
    "    df.at[i,'Email content'] = df.loc[i]['Email content'].replace('>','').replace('<','').replace('\\n',' ').replace('-','').replace('+','').replace('#','')\n",
    "df.head()"
   ]
  },
  {
   "cell_type": "markdown",
   "id": "312eb8a5",
   "metadata": {},
   "source": [
    "#### Splitting the dataset into train and test sets"
   ]
  },
  {
   "cell_type": "code",
   "execution_count": 158,
   "id": "f7d78bf3",
   "metadata": {},
   "outputs": [],
   "source": [
    "from sklearn.model_selection import train_test_split\n",
    "\n",
    "X_train, X_test, y_train, y_test = train_test_split(df['Email content'],df['Label'],shuffle=True,random_state=0)"
   ]
  },
  {
   "cell_type": "code",
   "execution_count": 159,
   "id": "692d873d",
   "metadata": {},
   "outputs": [
    {
     "name": "stdout",
     "output_type": "stream",
     "text": [
      "2286 763 2286 763\n"
     ]
    }
   ],
   "source": [
    "print (len(X_train),len(X_test),len(y_train),len(y_test))"
   ]
  },
  {
   "cell_type": "markdown",
   "id": "48a9c197",
   "metadata": {},
   "source": [
    "## Model training and selection\n",
    "We'll go through the use of TfidfVectorizer and CountVectorizer as NLP resources to transform the dataset into a format the classifiers can interpret. \n",
    "\n",
    "We are going to train a LogisticRegressor and a Support Vector classifier with TFIDF  vectorizer and the best model will be evaluated on the test data."
   ]
  },
  {
   "cell_type": "code",
   "execution_count": 160,
   "id": "29a7c66b",
   "metadata": {},
   "outputs": [],
   "source": [
    "# Defining a function to compute Precision, Recall and F1 score,accuracy and auc roc score on the test set\n",
    "\n",
    "def get_pre_rec_f1_accuracy_auc(model,X_test,y_test):\n",
    "    y_test_pred = model.predict(X_test)\n",
    "    tn, fp, fn, tp = confusion_matrix(y_test, y_test_pred).ravel()\n",
    "    \n",
    "    precision = tp / (tp + fp)\n",
    "    recall = tp / (tp + fn)\n",
    "    F1 = 2 * (precision * recall) / (precision + recall)\n",
    "    accuracy = (tp+tn)/(tp+fp+fn+tn)\n",
    "    auc = roc_auc_score(y_test, y_test_pred)\n",
    "    \n",
    "    print(f'Precision:{precision:.3f}\\nRecall:{recall:.3f}\\nF1 score:{F1:.3f}\\naccuracy:{accuracy:3f}\\nAUC:{auc:3f}')"
   ]
  },
  {
   "cell_type": "markdown",
   "id": "d6f5aacd",
   "metadata": {},
   "source": [
    "### TFIDF vectorizer with LogisticRegression"
   ]
  },
  {
   "cell_type": "code",
   "execution_count": 200,
   "id": "2a4d7cb0",
   "metadata": {},
   "outputs": [
    {
     "name": "stdout",
     "output_type": "stream",
     "text": [
      "Best cross-validation score: 0.99\n",
      "Best parameters:\n",
      "{'logisticregression__C': 100, 'tfidfvectorizer__ngram_range': (1, 5)}\n"
     ]
    }
   ],
   "source": [
    "pipe = make_pipeline(TfidfVectorizer(min_df=5), LogisticRegression(max_iter=10000))\n",
    "# running the grid search takes a long time because of the relatively large grid and the inclusion of trigrams\n",
    "param_grid = {\"logisticregression__C\": [0.001, 0.01, 0.1, 1, 10, 100],\n",
    "\"tfidfvectorizer__ngram_range\": [(1, 1), (1, 2), (1, 3),(2,5),(1,5),(1,4)]}\n",
    "grid = GridSearchCV(pipe, param_grid, cv=5)\n",
    "grid.fit(X_train, y_train)\n",
    "print(\"Best cross-validation score: {:.2f}\".format(grid.best_score_))\n",
    "print(\"Best parameters:\\n{}\".format(grid.best_params_))"
   ]
  },
  {
   "cell_type": "code",
   "execution_count": 201,
   "id": "f1b63e31",
   "metadata": {},
   "outputs": [],
   "source": [
    "vect = TfidfVectorizer(min_df=5,ngram_range=(1,5)).fit(X_train)\n",
    "X_train_vectorized = vect.transform(X_train)\n",
    "X_test_vectorized = vect.transform(X_test)\n",
    "clf_lg = LogisticRegression(C=100,max_iter=10000).fit(X_train_vectorized, y_train)\n",
    "y_predicted = clf_lg.predict(X_test_vectorized)"
   ]
  },
  {
   "cell_type": "code",
   "execution_count": 202,
   "id": "4997325e",
   "metadata": {},
   "outputs": [
    {
     "name": "stdout",
     "output_type": "stream",
     "text": [
      "Precision:1.000\n",
      "Recall:0.972\n",
      "F1 score:0.986\n",
      "accuracy:0.996068\n",
      "AUC:0.986111\n"
     ]
    }
   ],
   "source": [
    "get_pre_rec_f1_accuracy_auc(clf_lg,X_test_vectorized,y_test)"
   ]
  },
  {
   "cell_type": "markdown",
   "id": "955cd191",
   "metadata": {},
   "source": [
    "### TFIDF vectorizer with SVC."
   ]
  },
  {
   "cell_type": "code",
   "execution_count": 244,
   "id": "25da1825",
   "metadata": {
    "scrolled": true
   },
   "outputs": [
    {
     "name": "stdout",
     "output_type": "stream",
     "text": [
      "Fitting 5 folds for each of 18 candidates, totalling 90 fits\n",
      "[CV] END ....................C=100, gamma=0.1, kernel=linear; total time=   1.4s\n",
      "[CV] END ....................C=100, gamma=0.1, kernel=linear; total time=   1.6s\n",
      "[CV] END ....................C=100, gamma=0.1, kernel=linear; total time=   1.6s\n",
      "[CV] END ....................C=100, gamma=0.1, kernel=linear; total time=   1.6s\n",
      "[CV] END ....................C=100, gamma=0.1, kernel=linear; total time=   1.6s\n",
      "[CV] END .......................C=100, gamma=0.1, kernel=rbf; total time=   1.8s\n",
      "[CV] END .......................C=100, gamma=0.1, kernel=rbf; total time=   1.8s\n",
      "[CV] END .......................C=100, gamma=0.1, kernel=rbf; total time=   1.8s\n",
      "[CV] END .......................C=100, gamma=0.1, kernel=rbf; total time=   1.8s\n",
      "[CV] END .......................C=100, gamma=0.1, kernel=rbf; total time=   1.7s\n",
      "[CV] END ..................C=100, gamma=0.001, kernel=linear; total time=   1.4s\n",
      "[CV] END ..................C=100, gamma=0.001, kernel=linear; total time=   1.5s\n",
      "[CV] END ..................C=100, gamma=0.001, kernel=linear; total time=   1.4s\n",
      "[CV] END ..................C=100, gamma=0.001, kernel=linear; total time=   1.4s\n",
      "[CV] END ..................C=100, gamma=0.001, kernel=linear; total time=   1.4s\n",
      "[CV] END .....................C=100, gamma=0.001, kernel=rbf; total time=   2.0s\n",
      "[CV] END .....................C=100, gamma=0.001, kernel=rbf; total time=   2.1s\n",
      "[CV] END .....................C=100, gamma=0.001, kernel=rbf; total time=   2.0s\n",
      "[CV] END .....................C=100, gamma=0.001, kernel=rbf; total time=   2.0s\n",
      "[CV] END .....................C=100, gamma=0.001, kernel=rbf; total time=   2.0s\n",
      "[CV] END .................C=100, gamma=0.0001, kernel=linear; total time=   1.4s\n",
      "[CV] END .................C=100, gamma=0.0001, kernel=linear; total time=   1.5s\n",
      "[CV] END .................C=100, gamma=0.0001, kernel=linear; total time=   1.4s\n",
      "[CV] END .................C=100, gamma=0.0001, kernel=linear; total time=   1.4s\n",
      "[CV] END .................C=100, gamma=0.0001, kernel=linear; total time=   1.4s\n",
      "[CV] END ....................C=100, gamma=0.0001, kernel=rbf; total time=   2.1s\n",
      "[CV] END ....................C=100, gamma=0.0001, kernel=rbf; total time=   2.2s\n",
      "[CV] END ....................C=100, gamma=0.0001, kernel=rbf; total time=   2.2s\n",
      "[CV] END ....................C=100, gamma=0.0001, kernel=rbf; total time=   2.3s\n",
      "[CV] END ....................C=100, gamma=0.0001, kernel=rbf; total time=   2.2s\n",
      "[CV] END ...................C=1000, gamma=0.1, kernel=linear; total time=   1.3s\n",
      "[CV] END ...................C=1000, gamma=0.1, kernel=linear; total time=   1.4s\n",
      "[CV] END ...................C=1000, gamma=0.1, kernel=linear; total time=   1.3s\n",
      "[CV] END ...................C=1000, gamma=0.1, kernel=linear; total time=   1.3s\n",
      "[CV] END ...................C=1000, gamma=0.1, kernel=linear; total time=   1.4s\n",
      "[CV] END ......................C=1000, gamma=0.1, kernel=rbf; total time=   1.6s\n",
      "[CV] END ......................C=1000, gamma=0.1, kernel=rbf; total time=   1.7s\n",
      "[CV] END ......................C=1000, gamma=0.1, kernel=rbf; total time=   1.6s\n",
      "[CV] END ......................C=1000, gamma=0.1, kernel=rbf; total time=   1.7s\n",
      "[CV] END ......................C=1000, gamma=0.1, kernel=rbf; total time=   1.6s\n",
      "[CV] END .................C=1000, gamma=0.001, kernel=linear; total time=   1.3s\n",
      "[CV] END .................C=1000, gamma=0.001, kernel=linear; total time=   1.4s\n",
      "[CV] END .................C=1000, gamma=0.001, kernel=linear; total time=   1.3s\n",
      "[CV] END .................C=1000, gamma=0.001, kernel=linear; total time=   1.3s\n",
      "[CV] END .................C=1000, gamma=0.001, kernel=linear; total time=   1.5s\n",
      "[CV] END ....................C=1000, gamma=0.001, kernel=rbf; total time=   1.6s\n",
      "[CV] END ....................C=1000, gamma=0.001, kernel=rbf; total time=   1.6s\n",
      "[CV] END ....................C=1000, gamma=0.001, kernel=rbf; total time=   1.5s\n",
      "[CV] END ....................C=1000, gamma=0.001, kernel=rbf; total time=   1.6s\n",
      "[CV] END ....................C=1000, gamma=0.001, kernel=rbf; total time=   1.5s\n",
      "[CV] END ................C=1000, gamma=0.0001, kernel=linear; total time=   1.3s\n",
      "[CV] END ................C=1000, gamma=0.0001, kernel=linear; total time=   1.4s\n",
      "[CV] END ................C=1000, gamma=0.0001, kernel=linear; total time=   1.3s\n",
      "[CV] END ................C=1000, gamma=0.0001, kernel=linear; total time=   1.3s\n",
      "[CV] END ................C=1000, gamma=0.0001, kernel=linear; total time=   1.4s\n",
      "[CV] END ...................C=1000, gamma=0.0001, kernel=rbf; total time=   2.0s\n",
      "[CV] END ...................C=1000, gamma=0.0001, kernel=rbf; total time=   2.1s\n",
      "[CV] END ...................C=1000, gamma=0.0001, kernel=rbf; total time=   2.0s\n",
      "[CV] END ...................C=1000, gamma=0.0001, kernel=rbf; total time=   2.0s\n",
      "[CV] END ...................C=1000, gamma=0.0001, kernel=rbf; total time=   2.0s\n",
      "[CV] END ..................C=10000, gamma=0.1, kernel=linear; total time=   1.3s\n",
      "[CV] END ..................C=10000, gamma=0.1, kernel=linear; total time=   1.4s\n",
      "[CV] END ..................C=10000, gamma=0.1, kernel=linear; total time=   1.3s\n",
      "[CV] END ..................C=10000, gamma=0.1, kernel=linear; total time=   1.3s\n",
      "[CV] END ..................C=10000, gamma=0.1, kernel=linear; total time=   1.4s\n",
      "[CV] END .....................C=10000, gamma=0.1, kernel=rbf; total time=   1.7s\n",
      "[CV] END .....................C=10000, gamma=0.1, kernel=rbf; total time=   1.6s\n",
      "[CV] END .....................C=10000, gamma=0.1, kernel=rbf; total time=   1.6s\n",
      "[CV] END .....................C=10000, gamma=0.1, kernel=rbf; total time=   1.7s\n",
      "[CV] END .....................C=10000, gamma=0.1, kernel=rbf; total time=   1.6s\n",
      "[CV] END ................C=10000, gamma=0.001, kernel=linear; total time=   1.3s\n",
      "[CV] END ................C=10000, gamma=0.001, kernel=linear; total time=   1.3s\n",
      "[CV] END ................C=10000, gamma=0.001, kernel=linear; total time=   1.3s\n",
      "[CV] END ................C=10000, gamma=0.001, kernel=linear; total time=   1.3s\n",
      "[CV] END ................C=10000, gamma=0.001, kernel=linear; total time=   1.5s\n",
      "[CV] END ...................C=10000, gamma=0.001, kernel=rbf; total time=   1.6s\n",
      "[CV] END ...................C=10000, gamma=0.001, kernel=rbf; total time=   1.5s\n",
      "[CV] END ...................C=10000, gamma=0.001, kernel=rbf; total time=   1.5s\n",
      "[CV] END ...................C=10000, gamma=0.001, kernel=rbf; total time=   1.6s\n",
      "[CV] END ...................C=10000, gamma=0.001, kernel=rbf; total time=   1.5s\n",
      "[CV] END ...............C=10000, gamma=0.0001, kernel=linear; total time=   1.3s\n",
      "[CV] END ...............C=10000, gamma=0.0001, kernel=linear; total time=   1.4s\n",
      "[CV] END ...............C=10000, gamma=0.0001, kernel=linear; total time=   1.3s\n",
      "[CV] END ...............C=10000, gamma=0.0001, kernel=linear; total time=   1.3s\n",
      "[CV] END ...............C=10000, gamma=0.0001, kernel=linear; total time=   1.4s\n",
      "[CV] END ..................C=10000, gamma=0.0001, kernel=rbf; total time=   1.6s\n",
      "[CV] END ..................C=10000, gamma=0.0001, kernel=rbf; total time=   1.5s\n",
      "[CV] END ..................C=10000, gamma=0.0001, kernel=rbf; total time=   1.6s\n",
      "[CV] END ..................C=10000, gamma=0.0001, kernel=rbf; total time=   1.8s\n",
      "[CV] END ..................C=10000, gamma=0.0001, kernel=rbf; total time=   1.6s\n",
      "Best cross-validation score: 0.99\n",
      "Best parameters:\n",
      "{'C': 10000, 'gamma': 0.001, 'kernel': 'rbf'}\n"
     ]
    }
   ],
   "source": [
    "vect = TfidfVectorizer(min_df=5,ngram_range=(2,5)).fit(X_train)\n",
    "X_train_vectorized = vect.transform(X_train)\n",
    "X_test_vectorized = vect.transform(X_test)\n",
    "param_grid = {'C':[100,1000,10000],'gamma':[0.1,0.001,0.0001], 'kernel':['linear','rbf']}\n",
    "grid = GridSearchCV(SVC(),param_grid,refit = True, verbose=2)\n",
    "grid.fit(X_train_vectorized, y_train)\n",
    "print(\"Best cross-validation score: {:.2f}\".format(grid.best_score_))\n",
    "print(\"Best parameters:\\n{}\".format(grid.best_params_))"
   ]
  },
  {
   "cell_type": "code",
   "execution_count": 248,
   "id": "491cf134",
   "metadata": {},
   "outputs": [],
   "source": [
    "vect = TfidfVectorizer(min_df=5,ngram_range=(2,5)).fit(X_train)\n",
    "X_train_vectorized = vect.transform(X_train)\n",
    "X_test_vectorized = vect.transform(X_test)\n",
    "clf_svc = SVC(C=10000,gamma= 0.001,kernel='rbf').fit(X_train_vectorized, y_train)\n",
    "y_predicted = clf_svc.predict(X_test_vectorized)"
   ]
  },
  {
   "cell_type": "code",
   "execution_count": 249,
   "id": "c204d807",
   "metadata": {},
   "outputs": [
    {
     "name": "stdout",
     "output_type": "stream",
     "text": [
      "Precision:0.939\n",
      "Recall:0.991\n",
      "F1 score:0.964\n",
      "accuracy:0.989515\n",
      "AUC:0.990027\n"
     ]
    }
   ],
   "source": [
    "get_pre_rec_f1_accuracy_auc(clf_svc,X_test_vectorized,y_test)"
   ]
  },
  {
   "cell_type": "markdown",
   "id": "4320c4e4",
   "metadata": {},
   "source": [
    "### TFIDF Vectorizer with Random Forest Classifier"
   ]
  },
  {
   "cell_type": "code",
   "execution_count": 216,
   "id": "212f5949",
   "metadata": {
    "scrolled": true
   },
   "outputs": [
    {
     "name": "stdout",
     "output_type": "stream",
     "text": [
      "Fitting 5 folds for each of 48 candidates, totalling 240 fits\n",
      "[CV] END .......................max_depth=2, n_estimators=20; total time=   0.0s\n",
      "[CV] END .......................max_depth=2, n_estimators=20; total time=   0.0s\n",
      "[CV] END .......................max_depth=2, n_estimators=20; total time=   0.0s\n",
      "[CV] END .......................max_depth=2, n_estimators=20; total time=   0.0s\n",
      "[CV] END .......................max_depth=2, n_estimators=20; total time=   0.0s\n",
      "[CV] END .......................max_depth=2, n_estimators=50; total time=   0.0s\n",
      "[CV] END .......................max_depth=2, n_estimators=50; total time=   0.0s\n",
      "[CV] END .......................max_depth=2, n_estimators=50; total time=   0.0s\n",
      "[CV] END .......................max_depth=2, n_estimators=50; total time=   0.0s\n",
      "[CV] END .......................max_depth=2, n_estimators=50; total time=   0.0s\n",
      "[CV] END ......................max_depth=2, n_estimators=200; total time=   0.2s\n",
      "[CV] END ......................max_depth=2, n_estimators=200; total time=   0.2s\n",
      "[CV] END ......................max_depth=2, n_estimators=200; total time=   0.2s\n",
      "[CV] END ......................max_depth=2, n_estimators=200; total time=   0.2s\n",
      "[CV] END ......................max_depth=2, n_estimators=200; total time=   0.2s\n",
      "[CV] END ......................max_depth=2, n_estimators=400; total time=   0.5s\n",
      "[CV] END ......................max_depth=2, n_estimators=400; total time=   0.5s\n",
      "[CV] END ......................max_depth=2, n_estimators=400; total time=   0.5s\n",
      "[CV] END ......................max_depth=2, n_estimators=400; total time=   0.5s\n",
      "[CV] END ......................max_depth=2, n_estimators=400; total time=   0.5s\n",
      "[CV] END ......................max_depth=2, n_estimators=600; total time=   0.8s\n",
      "[CV] END ......................max_depth=2, n_estimators=600; total time=   0.8s\n",
      "[CV] END ......................max_depth=2, n_estimators=600; total time=   0.8s\n",
      "[CV] END ......................max_depth=2, n_estimators=600; total time=   0.8s\n",
      "[CV] END ......................max_depth=2, n_estimators=600; total time=   0.8s\n",
      "[CV] END .....................max_depth=2, n_estimators=1000; total time=   1.4s\n",
      "[CV] END .....................max_depth=2, n_estimators=1000; total time=   1.4s\n",
      "[CV] END .....................max_depth=2, n_estimators=1000; total time=   1.4s\n",
      "[CV] END .....................max_depth=2, n_estimators=1000; total time=   1.4s\n",
      "[CV] END .....................max_depth=2, n_estimators=1000; total time=   1.4s\n",
      "[CV] END .......................max_depth=5, n_estimators=20; total time=   0.0s\n",
      "[CV] END .......................max_depth=5, n_estimators=20; total time=   0.0s\n",
      "[CV] END .......................max_depth=5, n_estimators=20; total time=   0.0s\n",
      "[CV] END .......................max_depth=5, n_estimators=20; total time=   0.0s\n",
      "[CV] END .......................max_depth=5, n_estimators=20; total time=   0.0s\n",
      "[CV] END .......................max_depth=5, n_estimators=50; total time=   0.0s\n",
      "[CV] END .......................max_depth=5, n_estimators=50; total time=   0.0s\n",
      "[CV] END .......................max_depth=5, n_estimators=50; total time=   0.0s\n",
      "[CV] END .......................max_depth=5, n_estimators=50; total time=   0.0s\n",
      "[CV] END .......................max_depth=5, n_estimators=50; total time=   0.0s\n",
      "[CV] END ......................max_depth=5, n_estimators=200; total time=   0.3s\n",
      "[CV] END ......................max_depth=5, n_estimators=200; total time=   0.3s\n",
      "[CV] END ......................max_depth=5, n_estimators=200; total time=   0.3s\n",
      "[CV] END ......................max_depth=5, n_estimators=200; total time=   0.3s\n",
      "[CV] END ......................max_depth=5, n_estimators=200; total time=   0.3s\n",
      "[CV] END ......................max_depth=5, n_estimators=400; total time=   0.7s\n",
      "[CV] END ......................max_depth=5, n_estimators=400; total time=   0.7s\n",
      "[CV] END ......................max_depth=5, n_estimators=400; total time=   0.7s\n",
      "[CV] END ......................max_depth=5, n_estimators=400; total time=   0.7s\n",
      "[CV] END ......................max_depth=5, n_estimators=400; total time=   0.7s\n",
      "[CV] END ......................max_depth=5, n_estimators=600; total time=   1.1s\n",
      "[CV] END ......................max_depth=5, n_estimators=600; total time=   1.1s\n",
      "[CV] END ......................max_depth=5, n_estimators=600; total time=   1.1s\n",
      "[CV] END ......................max_depth=5, n_estimators=600; total time=   1.1s\n",
      "[CV] END ......................max_depth=5, n_estimators=600; total time=   1.1s\n",
      "[CV] END .....................max_depth=5, n_estimators=1000; total time=   1.8s\n",
      "[CV] END .....................max_depth=5, n_estimators=1000; total time=   1.8s\n",
      "[CV] END .....................max_depth=5, n_estimators=1000; total time=   1.8s\n",
      "[CV] END .....................max_depth=5, n_estimators=1000; total time=   1.8s\n",
      "[CV] END .....................max_depth=5, n_estimators=1000; total time=   1.8s\n",
      "[CV] END ......................max_depth=10, n_estimators=20; total time=   0.0s\n",
      "[CV] END ......................max_depth=10, n_estimators=20; total time=   0.0s\n",
      "[CV] END ......................max_depth=10, n_estimators=20; total time=   0.0s\n",
      "[CV] END ......................max_depth=10, n_estimators=20; total time=   0.0s\n",
      "[CV] END ......................max_depth=10, n_estimators=20; total time=   0.0s\n",
      "[CV] END ......................max_depth=10, n_estimators=50; total time=   0.1s\n",
      "[CV] END ......................max_depth=10, n_estimators=50; total time=   0.0s\n",
      "[CV] END ......................max_depth=10, n_estimators=50; total time=   0.1s\n",
      "[CV] END ......................max_depth=10, n_estimators=50; total time=   0.1s\n",
      "[CV] END ......................max_depth=10, n_estimators=50; total time=   0.0s\n",
      "[CV] END .....................max_depth=10, n_estimators=200; total time=   0.4s\n",
      "[CV] END .....................max_depth=10, n_estimators=200; total time=   0.5s\n",
      "[CV] END .....................max_depth=10, n_estimators=200; total time=   0.4s\n",
      "[CV] END .....................max_depth=10, n_estimators=200; total time=   0.4s\n",
      "[CV] END .....................max_depth=10, n_estimators=200; total time=   0.5s\n",
      "[CV] END .....................max_depth=10, n_estimators=400; total time=   1.0s\n",
      "[CV] END .....................max_depth=10, n_estimators=400; total time=   1.0s\n",
      "[CV] END .....................max_depth=10, n_estimators=400; total time=   0.9s\n",
      "[CV] END .....................max_depth=10, n_estimators=400; total time=   1.0s\n",
      "[CV] END .....................max_depth=10, n_estimators=400; total time=   1.0s\n",
      "[CV] END .....................max_depth=10, n_estimators=600; total time=   1.5s\n",
      "[CV] END .....................max_depth=10, n_estimators=600; total time=   1.5s\n",
      "[CV] END .....................max_depth=10, n_estimators=600; total time=   1.5s\n",
      "[CV] END .....................max_depth=10, n_estimators=600; total time=   1.5s\n",
      "[CV] END .....................max_depth=10, n_estimators=600; total time=   1.5s\n",
      "[CV] END ....................max_depth=10, n_estimators=1000; total time=   2.5s\n",
      "[CV] END ....................max_depth=10, n_estimators=1000; total time=   2.5s\n",
      "[CV] END ....................max_depth=10, n_estimators=1000; total time=   2.6s\n",
      "[CV] END ....................max_depth=10, n_estimators=1000; total time=   2.5s\n",
      "[CV] END ....................max_depth=10, n_estimators=1000; total time=   2.5s\n",
      "[CV] END ......................max_depth=20, n_estimators=20; total time=   0.0s\n",
      "[CV] END ......................max_depth=20, n_estimators=20; total time=   0.0s\n",
      "[CV] END ......................max_depth=20, n_estimators=20; total time=   0.0s\n",
      "[CV] END ......................max_depth=20, n_estimators=20; total time=   0.0s\n",
      "[CV] END ......................max_depth=20, n_estimators=20; total time=   0.0s\n",
      "[CV] END ......................max_depth=20, n_estimators=50; total time=   0.1s\n",
      "[CV] END ......................max_depth=20, n_estimators=50; total time=   0.1s\n",
      "[CV] END ......................max_depth=20, n_estimators=50; total time=   0.1s\n",
      "[CV] END ......................max_depth=20, n_estimators=50; total time=   0.1s\n",
      "[CV] END ......................max_depth=20, n_estimators=50; total time=   0.1s\n",
      "[CV] END .....................max_depth=20, n_estimators=200; total time=   0.7s\n"
     ]
    },
    {
     "name": "stdout",
     "output_type": "stream",
     "text": [
      "[CV] END .....................max_depth=20, n_estimators=200; total time=   0.7s\n",
      "[CV] END .....................max_depth=20, n_estimators=200; total time=   0.7s\n",
      "[CV] END .....................max_depth=20, n_estimators=200; total time=   0.7s\n",
      "[CV] END .....................max_depth=20, n_estimators=200; total time=   0.7s\n",
      "[CV] END .....................max_depth=20, n_estimators=400; total time=   1.4s\n",
      "[CV] END .....................max_depth=20, n_estimators=400; total time=   1.5s\n",
      "[CV] END .....................max_depth=20, n_estimators=400; total time=   1.4s\n",
      "[CV] END .....................max_depth=20, n_estimators=400; total time=   1.6s\n",
      "[CV] END .....................max_depth=20, n_estimators=400; total time=   1.5s\n",
      "[CV] END .....................max_depth=20, n_estimators=600; total time=   2.3s\n",
      "[CV] END .....................max_depth=20, n_estimators=600; total time=   2.2s\n",
      "[CV] END .....................max_depth=20, n_estimators=600; total time=   2.2s\n",
      "[CV] END .....................max_depth=20, n_estimators=600; total time=   2.2s\n",
      "[CV] END .....................max_depth=20, n_estimators=600; total time=   2.2s\n",
      "[CV] END ....................max_depth=20, n_estimators=1000; total time=   3.7s\n",
      "[CV] END ....................max_depth=20, n_estimators=1000; total time=   3.8s\n",
      "[CV] END ....................max_depth=20, n_estimators=1000; total time=   4.0s\n",
      "[CV] END ....................max_depth=20, n_estimators=1000; total time=   3.9s\n",
      "[CV] END ....................max_depth=20, n_estimators=1000; total time=   3.9s\n",
      "[CV] END ......................max_depth=30, n_estimators=20; total time=   0.0s\n",
      "[CV] END ......................max_depth=30, n_estimators=20; total time=   0.0s\n",
      "[CV] END ......................max_depth=30, n_estimators=20; total time=   0.0s\n",
      "[CV] END ......................max_depth=30, n_estimators=20; total time=   0.0s\n",
      "[CV] END ......................max_depth=30, n_estimators=20; total time=   0.0s\n",
      "[CV] END ......................max_depth=30, n_estimators=50; total time=   0.2s\n",
      "[CV] END ......................max_depth=30, n_estimators=50; total time=   0.2s\n",
      "[CV] END ......................max_depth=30, n_estimators=50; total time=   0.2s\n",
      "[CV] END ......................max_depth=30, n_estimators=50; total time=   0.2s\n",
      "[CV] END ......................max_depth=30, n_estimators=50; total time=   0.2s\n",
      "[CV] END .....................max_depth=30, n_estimators=200; total time=   1.0s\n",
      "[CV] END .....................max_depth=30, n_estimators=200; total time=   0.9s\n",
      "[CV] END .....................max_depth=30, n_estimators=200; total time=   0.9s\n",
      "[CV] END .....................max_depth=30, n_estimators=200; total time=   0.9s\n",
      "[CV] END .....................max_depth=30, n_estimators=200; total time=   0.9s\n",
      "[CV] END .....................max_depth=30, n_estimators=400; total time=   2.0s\n",
      "[CV] END .....................max_depth=30, n_estimators=400; total time=   2.0s\n",
      "[CV] END .....................max_depth=30, n_estimators=400; total time=   2.0s\n",
      "[CV] END .....................max_depth=30, n_estimators=400; total time=   1.9s\n",
      "[CV] END .....................max_depth=30, n_estimators=400; total time=   1.9s\n",
      "[CV] END .....................max_depth=30, n_estimators=600; total time=   2.8s\n",
      "[CV] END .....................max_depth=30, n_estimators=600; total time=   2.9s\n",
      "[CV] END .....................max_depth=30, n_estimators=600; total time=   2.8s\n",
      "[CV] END .....................max_depth=30, n_estimators=600; total time=   2.8s\n",
      "[CV] END .....................max_depth=30, n_estimators=600; total time=   2.9s\n",
      "[CV] END ....................max_depth=30, n_estimators=1000; total time=   4.8s\n",
      "[CV] END ....................max_depth=30, n_estimators=1000; total time=   4.8s\n",
      "[CV] END ....................max_depth=30, n_estimators=1000; total time=   4.7s\n",
      "[CV] END ....................max_depth=30, n_estimators=1000; total time=   4.9s\n",
      "[CV] END ....................max_depth=30, n_estimators=1000; total time=   4.8s\n",
      "[CV] END ......................max_depth=50, n_estimators=20; total time=   0.0s\n",
      "[CV] END ......................max_depth=50, n_estimators=20; total time=   0.0s\n",
      "[CV] END ......................max_depth=50, n_estimators=20; total time=   0.0s\n",
      "[CV] END ......................max_depth=50, n_estimators=20; total time=   0.0s\n",
      "[CV] END ......................max_depth=50, n_estimators=20; total time=   0.0s\n",
      "[CV] END ......................max_depth=50, n_estimators=50; total time=   0.2s\n",
      "[CV] END ......................max_depth=50, n_estimators=50; total time=   0.2s\n",
      "[CV] END ......................max_depth=50, n_estimators=50; total time=   0.2s\n",
      "[CV] END ......................max_depth=50, n_estimators=50; total time=   0.2s\n",
      "[CV] END ......................max_depth=50, n_estimators=50; total time=   0.2s\n",
      "[CV] END .....................max_depth=50, n_estimators=200; total time=   1.1s\n",
      "[CV] END .....................max_depth=50, n_estimators=200; total time=   1.2s\n",
      "[CV] END .....................max_depth=50, n_estimators=200; total time=   1.2s\n",
      "[CV] END .....................max_depth=50, n_estimators=200; total time=   1.1s\n",
      "[CV] END .....................max_depth=50, n_estimators=200; total time=   1.2s\n",
      "[CV] END .....................max_depth=50, n_estimators=400; total time=   2.4s\n",
      "[CV] END .....................max_depth=50, n_estimators=400; total time=   2.5s\n",
      "[CV] END .....................max_depth=50, n_estimators=400; total time=   2.4s\n",
      "[CV] END .....................max_depth=50, n_estimators=400; total time=   2.4s\n",
      "[CV] END .....................max_depth=50, n_estimators=400; total time=   2.5s\n",
      "[CV] END .....................max_depth=50, n_estimators=600; total time=   3.7s\n",
      "[CV] END .....................max_depth=50, n_estimators=600; total time=   3.7s\n",
      "[CV] END .....................max_depth=50, n_estimators=600; total time=   3.7s\n",
      "[CV] END .....................max_depth=50, n_estimators=600; total time=   3.7s\n",
      "[CV] END .....................max_depth=50, n_estimators=600; total time=   3.7s\n",
      "[CV] END ....................max_depth=50, n_estimators=1000; total time=   6.1s\n",
      "[CV] END ....................max_depth=50, n_estimators=1000; total time=   6.2s\n",
      "[CV] END ....................max_depth=50, n_estimators=1000; total time=   6.1s\n",
      "[CV] END ....................max_depth=50, n_estimators=1000; total time=   6.1s\n",
      "[CV] END ....................max_depth=50, n_estimators=1000; total time=   6.2s\n",
      "[CV] END .....................max_depth=100, n_estimators=20; total time=   0.1s\n",
      "[CV] END .....................max_depth=100, n_estimators=20; total time=   0.1s\n",
      "[CV] END .....................max_depth=100, n_estimators=20; total time=   0.1s\n",
      "[CV] END .....................max_depth=100, n_estimators=20; total time=   0.1s\n",
      "[CV] END .....................max_depth=100, n_estimators=20; total time=   0.1s\n",
      "[CV] END .....................max_depth=100, n_estimators=50; total time=   0.3s\n",
      "[CV] END .....................max_depth=100, n_estimators=50; total time=   0.3s\n",
      "[CV] END .....................max_depth=100, n_estimators=50; total time=   0.3s\n",
      "[CV] END .....................max_depth=100, n_estimators=50; total time=   0.3s\n",
      "[CV] END .....................max_depth=100, n_estimators=50; total time=   0.3s\n",
      "[CV] END ....................max_depth=100, n_estimators=200; total time=   1.4s\n",
      "[CV] END ....................max_depth=100, n_estimators=200; total time=   1.4s\n",
      "[CV] END ....................max_depth=100, n_estimators=200; total time=   1.4s\n",
      "[CV] END ....................max_depth=100, n_estimators=200; total time=   1.3s\n",
      "[CV] END ....................max_depth=100, n_estimators=200; total time=   1.4s\n",
      "[CV] END ....................max_depth=100, n_estimators=400; total time=   2.9s\n",
      "[CV] END ....................max_depth=100, n_estimators=400; total time=   3.0s\n",
      "[CV] END ....................max_depth=100, n_estimators=400; total time=   2.9s\n",
      "[CV] END ....................max_depth=100, n_estimators=400; total time=   2.8s\n",
      "[CV] END ....................max_depth=100, n_estimators=400; total time=   2.9s\n",
      "[CV] END ....................max_depth=100, n_estimators=600; total time=   4.4s\n",
      "[CV] END ....................max_depth=100, n_estimators=600; total time=   4.5s\n",
      "[CV] END ....................max_depth=100, n_estimators=600; total time=   4.4s\n"
     ]
    },
    {
     "name": "stdout",
     "output_type": "stream",
     "text": [
      "[CV] END ....................max_depth=100, n_estimators=600; total time=   4.2s\n",
      "[CV] END ....................max_depth=100, n_estimators=600; total time=   4.4s\n",
      "[CV] END ...................max_depth=100, n_estimators=1000; total time=   7.4s\n",
      "[CV] END ...................max_depth=100, n_estimators=1000; total time=   7.5s\n",
      "[CV] END ...................max_depth=100, n_estimators=1000; total time=   7.3s\n",
      "[CV] END ...................max_depth=100, n_estimators=1000; total time=   7.1s\n",
      "[CV] END ...................max_depth=100, n_estimators=1000; total time=   7.4s\n",
      "[CV] END .....................max_depth=200, n_estimators=20; total time=   0.1s\n",
      "[CV] END .....................max_depth=200, n_estimators=20; total time=   0.1s\n",
      "[CV] END .....................max_depth=200, n_estimators=20; total time=   0.1s\n",
      "[CV] END .....................max_depth=200, n_estimators=20; total time=   0.1s\n",
      "[CV] END .....................max_depth=200, n_estimators=20; total time=   0.1s\n",
      "[CV] END .....................max_depth=200, n_estimators=50; total time=   0.3s\n",
      "[CV] END .....................max_depth=200, n_estimators=50; total time=   0.3s\n",
      "[CV] END .....................max_depth=200, n_estimators=50; total time=   0.3s\n",
      "[CV] END .....................max_depth=200, n_estimators=50; total time=   0.3s\n",
      "[CV] END .....................max_depth=200, n_estimators=50; total time=   0.3s\n",
      "[CV] END ....................max_depth=200, n_estimators=200; total time=   1.4s\n",
      "[CV] END ....................max_depth=200, n_estimators=200; total time=   1.4s\n",
      "[CV] END ....................max_depth=200, n_estimators=200; total time=   1.4s\n",
      "[CV] END ....................max_depth=200, n_estimators=200; total time=   1.3s\n",
      "[CV] END ....................max_depth=200, n_estimators=200; total time=   1.4s\n",
      "[CV] END ....................max_depth=200, n_estimators=400; total time=   3.0s\n",
      "[CV] END ....................max_depth=200, n_estimators=400; total time=   3.0s\n",
      "[CV] END ....................max_depth=200, n_estimators=400; total time=   2.9s\n",
      "[CV] END ....................max_depth=200, n_estimators=400; total time=   2.7s\n",
      "[CV] END ....................max_depth=200, n_estimators=400; total time=   2.9s\n",
      "[CV] END ....................max_depth=200, n_estimators=600; total time=   4.4s\n",
      "[CV] END ....................max_depth=200, n_estimators=600; total time=   4.5s\n",
      "[CV] END ....................max_depth=200, n_estimators=600; total time=   4.4s\n",
      "[CV] END ....................max_depth=200, n_estimators=600; total time=   4.5s\n",
      "[CV] END ....................max_depth=200, n_estimators=600; total time=   4.4s\n",
      "[CV] END ...................max_depth=200, n_estimators=1000; total time=   7.4s\n",
      "[CV] END ...................max_depth=200, n_estimators=1000; total time=   7.5s\n",
      "[CV] END ...................max_depth=200, n_estimators=1000; total time=   7.5s\n",
      "[CV] END ...................max_depth=200, n_estimators=1000; total time=   7.1s\n",
      "[CV] END ...................max_depth=200, n_estimators=1000; total time=   7.5s\n",
      "Best cross-validation score: 0.98\n",
      "Best parameters:\n",
      "{'max_depth': 200, 'n_estimators': 50}\n"
     ]
    }
   ],
   "source": [
    "vect = TfidfVectorizer(min_df=5,ngram_range=(2,5)).fit(X_train)\n",
    "X_train_vectorized = vect.transform(X_train)\n",
    "X_test_vectorized = vect.transform(X_test)\n",
    "param_grid = {'max_depth':[2,5,10,20,30,50,100,200],'n_estimators':[20,50,200,400,600,1000]}\n",
    "grid = GridSearchCV(RandomForestClassifier(random_state=0),param_grid,refit = True, verbose=2)\n",
    "grid.fit(X_train_vectorized, y_train)\n",
    "print(\"Best cross-validation score: {:.2f}\".format(grid.best_score_))\n",
    "print(\"Best parameters:\\n{}\".format(grid.best_params_))"
   ]
  },
  {
   "cell_type": "code",
   "execution_count": 252,
   "id": "e87e6d98",
   "metadata": {},
   "outputs": [],
   "source": [
    "vect = TfidfVectorizer(min_df=5,ngram_range=(1,5)).fit(X_train)\n",
    "X_train_vectorized = vect.transform(X_train)\n",
    "X_test_vectorized = vect.transform(X_test)\n",
    "clf_rf = RandomForestClassifier(n_estimators=50,max_depth=200,random_state=0).fit(X_train_vectorized, y_train)\n",
    "y_predicted = clf_rf.predict(X_test_vectorized)"
   ]
  },
  {
   "cell_type": "code",
   "execution_count": 253,
   "id": "f7861429",
   "metadata": {},
   "outputs": [
    {
     "name": "stdout",
     "output_type": "stream",
     "text": [
      "Precision:1.000\n",
      "Recall:0.935\n",
      "F1 score:0.967\n",
      "accuracy:0.990826\n",
      "AUC:0.967593\n"
     ]
    }
   ],
   "source": [
    "get_pre_rec_f1_accuracy_auc(clf_rf,X_test_vectorized,y_test)"
   ]
  },
  {
   "cell_type": "markdown",
   "id": "c22c2051",
   "metadata": {},
   "source": [
    "### TFIDF Vectorizer with GradientBoosting Classifier"
   ]
  },
  {
   "cell_type": "code",
   "execution_count": 256,
   "id": "3d88453a",
   "metadata": {
    "scrolled": true
   },
   "outputs": [
    {
     "name": "stdout",
     "output_type": "stream",
     "text": [
      "Fitting 5 folds for each of 4 candidates, totalling 20 fits\n",
      "[CV] END .......................................max_depth=30; total time=  21.0s\n",
      "[CV] END .......................................max_depth=30; total time=  21.7s\n",
      "[CV] END .......................................max_depth=30; total time=  21.0s\n",
      "[CV] END .......................................max_depth=30; total time=  20.3s\n",
      "[CV] END .......................................max_depth=30; total time=  21.4s\n",
      "[CV] END .......................................max_depth=50; total time=  29.5s\n",
      "[CV] END .......................................max_depth=50; total time=  32.2s\n",
      "[CV] END .......................................max_depth=50; total time=  31.4s\n",
      "[CV] END .......................................max_depth=50; total time=  32.3s\n",
      "[CV] END .......................................max_depth=50; total time=  29.4s\n",
      "[CV] END ......................................max_depth=100; total time=  23.5s\n",
      "[CV] END ......................................max_depth=100; total time=  25.6s\n",
      "[CV] END ......................................max_depth=100; total time=  25.6s\n",
      "[CV] END ......................................max_depth=100; total time=  25.2s\n",
      "[CV] END ......................................max_depth=100; total time=  23.7s\n",
      "[CV] END ......................................max_depth=200; total time=  23.8s\n",
      "[CV] END ......................................max_depth=200; total time=  25.6s\n",
      "[CV] END ......................................max_depth=200; total time=  25.6s\n",
      "[CV] END ......................................max_depth=200; total time=  26.0s\n",
      "[CV] END ......................................max_depth=200; total time=  23.8s\n",
      "Best cross-validation score: 0.96\n",
      "Best parameters:\n",
      "{'max_depth': 30}\n"
     ]
    }
   ],
   "source": [
    "vect = TfidfVectorizer(min_df=5,ngram_range=(2,5)).fit(X_train)\n",
    "X_train_vectorized = vect.transform(X_train)\n",
    "X_test_vectorized = vect.transform(X_test)\n",
    "param_grid = {'max_depth':[30,50,100,200]}\n",
    "grid = GridSearchCV(GradientBoostingClassifier(random_state=0,n_estimators=50),param_grid,refit = True, verbose=2)\n",
    "grid.fit(X_train_vectorized, y_train)\n",
    "print(\"Best cross-validation score: {:.2f}\".format(grid.best_score_))\n",
    "print(\"Best parameters:\\n{}\".format(grid.best_params_))"
   ]
  },
  {
   "cell_type": "code",
   "execution_count": 259,
   "id": "150ee341",
   "metadata": {},
   "outputs": [],
   "source": [
    "vect = TfidfVectorizer(min_df=5,ngram_range=(2,5)).fit(X_train)\n",
    "X_train_vectorized = vect.transform(X_train)\n",
    "X_test_vectorized = vect.transform(X_test)\n",
    "clf_gbm = GradientBoostingClassifier(max_depth=30,random_state=0).fit(X_train_vectorized, y_train)\n",
    "y_predicted = clf_gbm.predict(X_test_vectorized)"
   ]
  },
  {
   "cell_type": "code",
   "execution_count": 260,
   "id": "d291d497",
   "metadata": {},
   "outputs": [
    {
     "name": "stdout",
     "output_type": "stream",
     "text": [
      "Precision:0.812\n",
      "Recall:0.880\n",
      "F1 score:0.844\n",
      "accuracy:0.954128\n",
      "AUC:0.923021\n"
     ]
    }
   ],
   "source": [
    "get_pre_rec_f1_accuracy_auc(clf_gbm,X_test_vectorized,y_test)"
   ]
  },
  {
   "cell_type": "markdown",
   "id": "260f0b2c",
   "metadata": {},
   "source": [
    "### Model selected: Support Vector Classifier with TFIDF vectorizer.\n",
    "SVC with TFIDF vectorizer has the highest AUC score and hence selected as the best model"
   ]
  },
  {
   "cell_type": "code",
   "execution_count": 261,
   "id": "5c8bd675",
   "metadata": {},
   "outputs": [],
   "source": [
    "vect = TfidfVectorizer(min_df=5,ngram_range=(2,5)).fit(X_train)\n",
    "X_train_vectorized = vect.transform(X_train)\n",
    "X_test_vectorized = vect.transform(X_test)\n",
    "clf_svc = SVC(C=10000,gamma= 0.001,kernel='rbf').fit(X_train_vectorized, y_train)\n",
    "y_predicted = clf_svc.predict(X_test_vectorized)"
   ]
  },
  {
   "cell_type": "code",
   "execution_count": 272,
   "id": "0694d014",
   "metadata": {
    "scrolled": true
   },
   "outputs": [
    {
     "name": "stdout",
     "output_type": "stream",
     "text": [
      "Precision:0.939\n",
      "Recall:0.991\n",
      "F1 score:0.964\n",
      "accuracy:0.989515\n",
      "AUC:0.990027\n"
     ]
    }
   ],
   "source": [
    "get_pre_rec_f1_accuracy_auc(clf_svc,X_test_vectorized,y_test)"
   ]
  },
  {
   "cell_type": "markdown",
   "id": "54dcb503",
   "metadata": {},
   "source": [
    "#### The SVC-TFIDF vectorizer model peroforms really well on this dataset as seen from the AUC score of 0.99."
   ]
  },
  {
   "cell_type": "code",
   "execution_count": 273,
   "id": "60981d80",
   "metadata": {},
   "outputs": [
    {
     "name": "stdout",
     "output_type": "stream",
     "text": [
      "Vocabulary size: 32236\n",
      "Features with highest idf:\n",
      "['your private valuable', 'your private valuable information', 'your private valuable information allow', 'your problem', 'your profits', 'your profits once', 'your profits once you', 'your profits once you understand', 'your progress', 'your progress by', 'your progress by watching', 'your progress by watching which', 'your questions', 'your reports', 'your reports today', 'your reports today and', 'your reports today and get', 'your request', 'your return', 'your return address', 'your return address is', 'your return address is on', 'your right', 'your right to', 'your road', 'your road to', 'your road to financial', 'your running', 'your sales', 'your sendmail', 'your services', 'your shirt', 'your site', 'your success', 'your success guidelines', 'your success guidelines follow', 'your success guidelines follow these', 'your success if', 'your success if you', 'your success if you do', 'your system', 'your system norton', 'your system norton ghostÿffff99', 'your system norton ghostÿffff99 2002', 'your time', 'your time and', 'your total', 'your total cost', 'your total cost 25', 'your total cost 25 00', 'your total income', 'your total income in', 'your total income in this', 'your urgent', 'your urgent reply', 'your use', 'your use of', 'your use of yahoo', 'your use of yahoo groups', 'your user', 'your user page', 'your user page http', 'your user page http use', 'your valuable', 'your valuable data', 'your valuable data easy', 'your valuable data easy norton', 'your valuable information', 'your valuable information and', 'your valuable information and click', 'your very', 'your very first', 'your very first year', 'your very first year of', 'your wallet', 'your way', 'your website', 'yours faithfully', 'yours for', 'yours for only', 'yours for only 29', 'yours for only 29 99', 'yours now', 'yourself and', 'yourself and your', 'yourself and your family', 'yourself from', 'yourself or', 'zawodny com', 'zawodny com blog', 'zawodny com blog archives', 'zealot conservative', 'zealot conservative and', 'zealot conservative and technomad', 'zealot conservative and technomad evansville', 'ziggy on', 'zzzz example', 'zzzz example com', 'zzzz example com 7c17', 'zzzz example com 7c17 7c308417']\n"
     ]
    }
   ],
   "source": [
    "print(\"Vocabulary size: {}\".format(len(vect.vocabulary_)))\n",
    "print(\"Features with highest idf:\\n{}\".format(vect.get_feature_names()[-100:]))"
   ]
  },
  {
   "cell_type": "markdown",
   "id": "36423005",
   "metadata": {},
   "source": [
    "## Confusion Matrix"
   ]
  },
  {
   "cell_type": "code",
   "execution_count": 263,
   "id": "af85b1ef",
   "metadata": {},
   "outputs": [],
   "source": [
    "from sklearn.metrics import confusion_matrix\n",
    "import matplotlib.pyplot as plt\n",
    "matrix = confusion_matrix(y_test, y_predicted)"
   ]
  },
  {
   "cell_type": "markdown",
   "id": "26c17d52",
   "metadata": {},
   "source": [
    "### Normalizing and displaying the confusion matrix "
   ]
  },
  {
   "cell_type": "code",
   "execution_count": 271,
   "id": "d239de3a",
   "metadata": {},
   "outputs": [
    {
     "name": "stderr",
     "output_type": "stream",
     "text": [
      "<ipython-input-271-30dde9c2a154>:3: FutureWarning: Support for multi-dimensional indexing (e.g. `obj[:, None]`) is deprecated and will be removed in a future version.  Convert to a numpy array before indexing instead.\n",
      "  conf_matrix = conf_matrix.astype('float') / conf_matrix.sum(axis=1)[:, np.newaxis]\n"
     ]
    },
    {
     "data": {
      "image/png": "[encoded data removed]",
      "text/plain": [
       "<Figure size 1080x1080 with 2 Axes>"
      ]
     },
     "metadata": {
      "needs_background": "light"
     },
     "output_type": "display_data"
    }
   ],
   "source": [
    "import seaborn as sns\n",
    "conf_matrix = pd.DataFrame(matrix, index = ['HAM','SPAM'],columns = ['Ham','Spam'])\n",
    "conf_matrix = conf_matrix.astype('float') / conf_matrix.sum(axis=1)[:, np.newaxis]\n",
    "plt.figure(figsize = (15,15))\n",
    "sns.heatmap(conf_matrix, annot=True, annot_kws={\"size\": 15},cmap='RdBu')\n",
    "plt.show()"
   ]
  },
  {
   "cell_type": "markdown",
   "id": "4945963f",
   "metadata": {},
   "source": [
    "## Model testing\n",
    "Let's simulate some emails to see how our model performs"
   ]
  },
  {
   "cell_type": "markdown",
   "id": "b4350b97",
   "metadata": {},
   "source": [
    "#### Defining a function to remove punctuations from the mail content for the predictions"
   ]
  },
  {
   "cell_type": "code",
   "execution_count": 267,
   "id": "27e45811",
   "metadata": {},
   "outputs": [],
   "source": [
    "def input_preprocessing(text):\n",
    "    text = text.replace('!','').replace('?','').replace(',','').replace('[','').replace(']','').replace('(','').replace(')','').replace('...','')\n",
    "    text = text.replace('>','').replace('<','').replace('\\n',' ').replace('-','').replace('+','').replace('#','')\n",
    "    return text"
   ]
  },
  {
   "cell_type": "markdown",
   "id": "e65bc707",
   "metadata": {},
   "source": [
    "#### Testing the trained SVC model on a sample of emails"
   ]
  },
  {
   "cell_type": "code",
   "execution_count": 268,
   "id": "5e90f168",
   "metadata": {},
   "outputs": [
    {
     "name": "stdout",
     "output_type": "stream",
     "text": [
      "The email has not been flagged as SPAM.\n"
     ]
    }
   ],
   "source": [
    "email_test = ['Good morning mates. This is just to let you all know we have scheduled a meeting for EOD.']\n",
    "email_test[0] = input_preprocessing(email_test[0])\n",
    "email_test = vect.transform(email_test)\n",
    "prediction = clf_svc.predict(email_test)\n",
    "\n",
    "if prediction == 0:\n",
    "    print('The email has not been flagged as SPAM.')\n",
    "else:\n",
    "    print('The email has been flagged as SPAM.')"
   ]
  },
  {
   "cell_type": "code",
   "execution_count": 270,
   "id": "7fcd6406",
   "metadata": {},
   "outputs": [
    {
     "name": "stdout",
     "output_type": "stream",
     "text": [
      "The email has been flagged as SPAM.\n"
     ]
    }
   ],
   "source": [
    "email_test = ['Dear Sergio, Flash Sale at Walmart! 25% OFF all weekend!']\n",
    "email_test[0] = input_preprocessing(email_test[0])\n",
    "email_test = vect.transform(email_test)\n",
    "prediction = clf_svc.predict(email_test)\n",
    "\n",
    "if prediction == 0:\n",
    "    print('The email has not been flagged as SPAM.')\n",
    "else:\n",
    "    print('The email has been flagged as SPAM.')"
   ]
  }
 ],
 "metadata": {
  "kernelspec": {
   "display_name": "Python 3",
   "language": "python",
   "name": "python3"
  },
  "language_info": {
   "codemirror_mode": {
    "name": "ipython",
    "version": 3
   },
   "file_extension": ".py",
   "mimetype": "text/x-python",
   "name": "python",
   "nbconvert_exporter": "python",
   "pygments_lexer": "ipython3",
   "version": "3.8.8"
  }
 },
 "nbformat": 4,
 "nbformat_minor": 5
}
