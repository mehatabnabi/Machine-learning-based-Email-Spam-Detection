{
 "cells": [
  {
   "cell_type": "markdown",
   "metadata": {},
   "source": [
    "# Email Spam Detection Report\n",
    "\n",
    "#### Note: Below is the report, followed by the code.\n",
    "\n",
    "### Abstract\n",
    "\n",
    "In this paper, we build a spam detector using 4 Machine Learning models and evaluate them with test data using different performance metrics used. The dataset we used was from a shuffled sample of email subjects and bodies containing both spam and ham emails in different proportions, which we converted into lemmas. As per our analysis, Naive Bayes model and Random Forest models worked well for spam detection, whereas SVM performed the poorest among the 4 models.\n",
    "\n",
    "\n",
    "### Methodology\n",
    "#### Introduction\n",
    "\n",
    "Email has become one of the most important forms of communication. In 2014, there are estimated to be 4.1 billion email accounts worldwide, and about 196 billion emails are sent each day worldwide. Spam is one of the major threats posed to email users. In 2013, 69.6% of all email flows were spam. Therefore, an effective spam filtering technology is a significant contribution to the sustainability of the cyberspace and to our society [1].\n",
    "\n",
    "To prepare the data, we followed the steps below:\n",
    "    1.\tDownload spam and ham emails through Google’s takeout service as an mbox file.\n",
    "    2.\tRead the mbox files into lists using the ‘mailbox’ package. Each element in the list contained an individual email. In the first iteration, we included 1000 ham mails and 400 spam mails (we tried different ratios after the first iteration).\n",
    "    3.\tUnpacked each email and concatenated their subject and body. We decided to include the email subject as well in our analysis because it is also a great indicator whether an email is a spam or ham.\n",
    "    4.\tConverted the lists to dataframes, joined the spam and ham dataframes and shuffled the resultant dataframe.\n",
    "    5.\tSplit the dataframe into train and test dataframes. The test data was 33% of the original dataset.\n",
    "    6.\tSplit the mail text into lemmas and applied TF-IDF transformation using CountVectorizer followed by TF-IDF transformer.\n",
    "    7.\tTrained four models using the training data:\n",
    "        a.\tNaive Bayes\n",
    "        b.\tDecision Tree\n",
    "        c.\tSVM\n",
    "        d.\tRandom Forest\n",
    "\n",
    "    8.\tUsing the trained models, predicted the email label for test dataset. Calculated four metrics to gauge performance of the models:\n",
    "        a.\tAccuracy\n",
    "        b.\tPrecision\n",
    "        c.\tRecall\n",
    "        d.\tF-score\n",
    "        e.\tAUC\n",
    "\n",
    "\n",
    "### ML Models Employed\n",
    "Email spam detection is a classification problem. Some algorithms like Naive Bayes Classifier, Decision Trees work well for spam detection. Algorithms like KNN, Linear Regression don’t really work well due to inherent disadvantages such as curse of dimensionality.\n",
    "\n",
    "#### A.\tNaive Bayes with bag of words approach using TF-IDF\n",
    "\n",
    "Naive Bayes is the easiest classification algorithm (fast to build, regularly used for spam detection).  It is a popular (baseline) method for text categorization, the problem of judging documents as belonging to one category or the other (such as spam or legitimate, sports or politics, etc.) with word frequencies as the features.\n",
    "\n",
    "Why use Naive Bayes?\n",
    "1.\tNB is very simple, easy to implement and fast because essentially you’re just doing a bunch of counts.\n",
    "2.\tIf the NB conditional independence assumption holds, then it will converge quicker than discriminative models like logistic regression.\n",
    "3.\tNB needs works well even with less sample data.\n",
    "4.\tNB is highly scalable. It scales linearly with the number of predictors and data points.\n",
    "5.\tNB can be used for both binary and multi-class classification problems and handles continuous and discrete data [2].\n",
    "6.\tNB is not sensitive to irrelevant features.\n",
    "\n",
    "Feature extraction using BOW : TF-IDF\n",
    "\n",
    "Term frequency-Inverse document frequency uses all the tokens in the dataset as vocabulary.Frequency of occurrence of a token from vocabulary in each document consists of the term frequency and number of documents in which token occurs determines the Inverse document frequency.What this ensures is that,if a token occurs frequently in a document that token will have high TF but if that token occurs frequently in majority of documents then it reduces the IDF ,so stop words like an,the,i which occur frequently are penalized and important words which contain the essence of document get a boost.Both these TF and IDF matrices for a particular document are multiplied and normalized to form TF-IDF of a document [3].\n",
    " \n",
    "TF-IDF Transformation\n",
    "\n",
    "#### B.  Decision Trees\n",
    "Decision trees are used for classification and regression. In decision analysis, a decision tree can be used to visually and explicitly represent decisions and decision making. The decision of making strategic splits heavily affects a tree’s accuracy. The decision criteria is different for classification and regression trees. Information theory is a measure to define this degree of disorganization in a system known as Entropy. If the sample is completely homogeneous, then the entropy is zero and if the sample is an equally divided (50% – 50%), it has entropy of one. It chooses the split which has lowest entropy compared to parent node and other splits. The lesser the entropy, the better it is.\n",
    "\n",
    "Why use Decision Trees?\n",
    "1.\tDecision trees implicitly perform variable screening or feature selection. When we fit a decision tree to a training dataset, the top few nodes on which the tree is split are essentially the most important variables within the dataset and feature selection is completed automatically\n",
    "2.\tDecision trees are easy to understand, easy to represent visually and easy to communicate.\n",
    "3.\tNonlinear relationships between parameters do not affect tree performance. Also trees can explain the non-linearity in an intuitive manner.\n",
    "\n",
    "#### C.  Support Vector Machine (SVM)\n",
    "\n",
    "SVM is a supervised machine learning algorithm which can be used for both classification or regression challenges. However,  it is mostly used in classification problems. In this algorithm, we plot each data item as a point in n-dimensional space (where n is number of features you have) with the value of each feature being the value of a particular coordinate. Then, we perform classification by finding the hyperplane that differentiate the two classes very well [4]. Support Vectors are simply the coordinates of individual observation. Support Vector Machine is a frontier which best segregates the two classes (hyper-plane/ line). If the data requires non-linear classification, SVM can employe Kernels, which are functions which takes low dimensional input space and transform it to a higher dimensional space i.e. they convert non separable problem to separable problem.\n",
    "\n",
    "#### D.  Random Forest\n",
    "Random forest is like bootstrapping algorithm with Decision tree (CART) model. Random forest tries to build multiple CART model with different sample and different initial variables. For instance, it will take a random sample of 100 observation and 5 randomly chosen initial variables to build a CART model. It will repeat the process (say) 10 times and then make a final prediction on each observation. Final prediction is a function of each prediction. This final prediction can simply be the mean of each prediction[4]. \n",
    "Random forest gives much more accurate predictions when compared to simple CART/CHAID or regression models in many scenarios. These cases generally have high number of predictive variables and huge sample size. This is because it captures the variance of several input variables at the same time and enables high number of observations to participate in the prediction.\n",
    "Metrics Used\n",
    "\n",
    "Following are the metrics we used to evaluate the performance of ML techniques:\n",
    "##### 1.\tPrecision\n",
    "Precision refers to the closeness of two or more measurements to each other. In Machine Learning, precision is the fraction of relevant instances among the retrieved instances.\n",
    "Precision = TP / (TP + FP)\n",
    "(Where TP = True Positive, TN = True Negative, FP = False Positive, FN = False Negative).\n",
    "\n",
    "##### 2.\tAccuracy\n",
    "Accuracy refers to the closeness of a measured value to a standard or known value.\n",
    "Accuracy = (TP+TN) / ALL\n",
    "\n",
    "##### 3.\tRecall\n",
    "Recall is how many of the true positives were recalled (found), i.e. how many of the correct hits were also found.\n",
    "Recall = TP / (TP + FN)\n",
    "##### 4.\tF-Score\n",
    "F-scores are a statistical method for determining accuracy accounting for both precision and recall. It is essentially the harmonic mean of precision and recall.\n",
    " \n",
    "##### 5.\tAUC\n",
    "AUC is the area under the ROC curve. The closer the AUC value is to 1, the better the model.\n",
    "\n",
    "\n",
    "### Comparison of Performance of the Models\n",
    "\n",
    "#### 1.\tNaive Bayes\n",
    "For this problem, Naive Bayes algorithm worked well as expected. Following were the confusion matrix and scores:\n",
    "\n",
    " \n",
    "                                                    [199   3]\n",
    "\n",
    "                                                     [ 78  45]\n",
    "\t\n",
    "                                                    Precision\t0.75, \n",
    "\n",
    "                                                    Accuracy\t0.94, \n",
    "\n",
    "                                                    Recall\t0.37, \n",
    "\n",
    "                                                    F-Score\t0.53, \n",
    "\n",
    "                                                    AUC\t0.67\n",
    "\n",
    "High accuracy suggests that the model is very good at correctly classifying the mails as ham or spam. Precision value is also good at 0.75, means the model has a low false positive rate. This can be corroborated by looking at false positives found - only 3. The model has a lower recall value compared to Decision Tree and Random Forest models. This indicates that results are complete to a large extent. In other words, probability of detection is lower compared to Decision Tree and Random Forest. Together, having a high precision and low recall means that the most of ham predictions are correct, but the model is not predicting all the ham in the test data. The AUC value is good too, as expected.\n",
    "\n",
    "#### 2.\tDecision Tree\n",
    "\n",
    " \n",
    "                                                    [152  50]\n",
    "\n",
    "                                                     [ 44  79]\n",
    "\n",
    "                                                    Precision\t0.71\n",
    "\n",
    "                                                    Accuracy\t0.61\n",
    "\n",
    "                                                    Recall\t0.64\n",
    "\n",
    "                                                    F-Score\t0.62\n",
    "\n",
    "                                                    AUC\t0.64\n",
    "\n",
    "Accuracy and Precision of the decision tree is low compared to Naive Bayes model. However, it has a higher Recall and F-Score. Good recall of 0.63 means predictions of decision tree are more complete compared to Naive Bayes. Good precision of 0.71 indicates that model has low false positive rate. Since the dataset has an uneven distribution of ham and spam, F-Score becomes an important metric. F-Score of 0.62 indicates a fairly good model in terms of precision and recall both. The AUC score is good, although not as good as NB.\n",
    "\n",
    "#### 3.\tSVM\n",
    "\n",
    " \n",
    "                                                        [202   0]\n",
    "\n",
    "                                                         [123   0]\n",
    "\n",
    "                                                        Precision\t0.62\n",
    "\n",
    "                                                        Accuracy\t0\n",
    "\n",
    "                                                        Recall\t0\n",
    "\n",
    "                                                        F-Score\t0\n",
    "\n",
    "                                                        AUC\t0.5\n",
    "\n",
    "It seems like SVM is unable to predict positive class at all. When there is no predicted sample, it means that TP+FP is 0. Hence precision and F-score are not defined and marked as 0. Accuracy is also 0 since true positive (numerator) is 0. SVM has high true negative rate, but a high false negative rate as well. The AUC score is the worst too.\n",
    "\n",
    "#### 4.\tRandom Forest\n",
    "\n",
    " \n",
    "                                                        [176  26]\n",
    "\n",
    "                                                         [ 44  79]\n",
    "\n",
    "                                                        Precision\t0.78\n",
    "\n",
    "                                                        Accuracy\t0.75\n",
    "\n",
    "                                                        Recall\t0.64\n",
    "\n",
    "                                                        F-Score\t0.69\n",
    "\n",
    "                                                        AUC\t0.73\n",
    "\n",
    "\n",
    "Random Forest algorithm had a high precision and accuracy. Considering lower accuracy as compared to Naive Bayes, good precision value indicates low false positive rate. Recall value is also good, especially when compared to Naive Bayes. Having high precision and recall suggests that the model is correctly predicting positive class (ham) and also capturing most ham in the test data. It follows that the model also has a good F-score, since it is directly proportional to Precision and Accuracy. The AUC score is the best too amongst all the models.\n",
    "\n",
    "### Results\n",
    "\n",
    "It is clear from the comparison that SVM model did not work out very well to solve our problem of spam detection. Naive Bayes and Random Forest both work pretty well. While Naive Bayes algorithm is has a high accuracy and a good precision, the recall value is poorer compared to Decision Tree and Random Forest. Since SVM model could not predict any positive values at all, its accuracy, recall and F-score were 0. As far as the F-score is concerned, Decision Tree and Random Forest have a good score as a result of good precision and recall both. NB and Random forest had the best AUC scores. Overall, we think that both Naive Bayes and Random Forest will be very good for spam detection. Of course, we can employ boosting or stacking ensemble methods to combine two or more of these models into a really good spam detector.\n",
    "\n",
    "### References\n",
    "\n",
    "1.\tEmail spam detection using Machine Learning (May, 2014). Retrieved from https://ese.wustl.edu/ContentFiles/Research/UndergraduateResearch/CompletedProjects/WebPages/sp14/SongSteimle/WebPage/motivation.html\n",
    "2.\tWhat are the advantages of using a naive Bayes for classification? Quora. Retrieved from https://www.quora.com/What-are-the-advantages-of-using-a-naive-Bayes-for-classification\n",
    "3.\tDocument feature extraction and classification. Ishaan Arora (March 2017). Retrieved from https://towardsdatascience.com/document-feature-extraction-and-classification-53f0e813d2d3\n",
    "4.\tUnderstanding Support Vector Machine algorithm from examples, Analytics Vidhya. Sunil Ray (September, 2017). Retrieved from https://www.analyticsvidhya.com/blog/2017/09/understaing-support-vector-machine-example-code/\n"
   ]
  },
  {
   "cell_type": "markdown",
   "metadata": {},
   "source": [
    "## Code"
   ]
  },
  {
   "cell_type": "code",
   "execution_count": 2,
   "metadata": {
    "collapsed": false
   },
   "outputs": [
    {
     "name": "stderr",
     "output_type": "stream",
     "text": [
      "C:\\Users\\nissi\\Anaconda3\\lib\\site-packages\\sklearn\\cross_validation.py:44: DeprecationWarning: This module was deprecated in version 0.18 in favor of the model_selection module into which all the refactored classes and functions are moved. Also note that the interface of the new CV iterators are different from that of this module. This module will be removed in 0.20.\n",
      "  \"This module will be removed in 0.20.\", DeprecationWarning)\n",
      "C:\\Users\\nissi\\Anaconda3\\lib\\site-packages\\sklearn\\grid_search.py:43: DeprecationWarning: This module was deprecated in version 0.18 in favor of the model_selection module into which all the refactored classes and functions are moved. This module will be removed in 0.20.\n",
      "  DeprecationWarning)\n",
      "C:\\Users\\nissi\\Anaconda3\\lib\\site-packages\\sklearn\\learning_curve.py:23: DeprecationWarning: This module was deprecated in version 0.18 in favor of the model_selection module into which all the functions are moved. This module will be removed in 0.20\n",
      "  DeprecationWarning)\n"
     ]
    }
   ],
   "source": [
    "#import all the needed libraries\n",
    "import mailbox\n",
    "%matplotlib inline\n",
    "import matplotlib.pyplot as plt\n",
    "import csv\n",
    "from textblob import TextBlob\n",
    "import pandas\n",
    "import sklearn\n",
    "#import cPickle\n",
    "import numpy as np\n",
    "from sklearn.feature_extraction.text import CountVectorizer, TfidfTransformer\n",
    "from sklearn.naive_bayes import MultinomialNB\n",
    "from sklearn.svm import SVC, LinearSVC\n",
    "from sklearn.metrics import classification_report, f1_score, accuracy_score, confusion_matrix\n",
    "from sklearn.pipeline import Pipeline\n",
    "from sklearn.grid_search import GridSearchCV\n",
    "from sklearn.cross_validation import StratifiedKFold, cross_val_score, train_test_split \n",
    "from sklearn.tree import DecisionTreeClassifier \n",
    "from sklearn.learning_curve import learning_curve\n",
    "\n",
    "#import metrics libraries\n",
    "from sklearn.metrics import confusion_matrix\n",
    "from sklearn.metrics import precision_score\n",
    "from sklearn.metrics import recall_score\n",
    "from sklearn.metrics import f1_score\n",
    "from sklearn.metrics import roc_auc_score"
   ]
  },
  {
   "cell_type": "code",
   "execution_count": 87,
   "metadata": {
    "collapsed": true
   },
   "outputs": [],
   "source": [
    "#function to get email text from email body\n",
    "def getmailtext(message): #getting plain text 'email body'\n",
    "    body = None\n",
    "    #check if mbox email message has multiple parts\n",
    "    if message.is_multipart():\n",
    "        for part in message.walk():\n",
    "            if part.is_multipart():\n",
    "                for subpart in part.walk():\n",
    "                    if subpart.get_content_type() == 'text/plain':\n",
    "                        body = subpart.get_payload(decode=True)\n",
    "            elif part.get_content_type() == 'text/plain':\n",
    "                body = part.get_payload(decode=True)\n",
    "    #if message only has a single part            \n",
    "    elif message.get_content_type() == 'text/plain':\n",
    "        body = message.get_payload(decode=True)\n",
    "    #return mail text which concatenates both mail subject and body\n",
    "    mailtext=str(message['subject'])+\" \"+str(body)\n",
    "    return mailtext\n"
   ]
  },
  {
   "cell_type": "code",
   "execution_count": 88,
   "metadata": {
    "collapsed": true
   },
   "outputs": [],
   "source": [
    "#read spam mbox email file\n",
    "mbox = mailbox.mbox('Spam.mbox')\n",
    "\n",
    "mlist_spam = []\n",
    "#create list which contains mail text for each spam email message\n",
    "for message in mbox:\n",
    "    mlist_spam.append(getmailtext(message))\n",
    "    #break\n",
    "#read ham mbox email file\n",
    "mbox_ham = mailbox.mbox('ham.mbox')\n",
    "\n",
    "mlist_ham = []\n",
    "count=0\n",
    "#create list which contains mail text for each ham email message\n",
    "for message in mbox_ham:\n",
    "    \n",
    "    mlist_ham.append(getmailtext(message))\n",
    "    if count>601:\n",
    "        break\n",
    "    count+=1"
   ]
  },
  {
   "cell_type": "code",
   "execution_count": 89,
   "metadata": {
    "collapsed": false
   },
   "outputs": [
    {
     "name": "stdout",
     "output_type": "stream",
     "text": [
      "                                             message label  length\n",
      "0  Uninterrupted High Speed Connectivity b'View I...  spam     250\n",
      "1  Opening For Experienced Java Engineer At GENPA...  spam      66\n",
      "2  Opportunities in Mumbai for Php Developer, Php...  spam      59\n",
      "3  =?UTF-8?B?IDEwJSBkaXNjb3VudCB3aGVuIHlvdSBidXkg...  spam    2281\n",
      "4  Build to outlast b'View In New Tab\\nTo Remove ...  spam     226\n",
      "                                             message label  length\n",
      "0  Get rewarded on all your spends with the Plati...   ham     238\n",
      "1  New apartments were just posted near Seattle f...   ham      63\n",
      "2  =?UTF-8?Q?Your_Career_in_Machine_Learning_Star...   ham   17774\n",
      "3  Dear Customer, Better Body = Better Life b' \\n...   ham     992\n",
      "4  Top Deals Revealed : Great Indian Sale | Only ...   ham      70\n"
     ]
    }
   ],
   "source": [
    "#create 2 dataframes for ham spam mails which contain the following info-\n",
    "#Mail text, mail length, mail is ham/spam label\n",
    "import pandas as pd\n",
    "spam_df = pd.DataFrame(mlist_spam, columns=[\"message\"])\n",
    "spam_df[\"label\"] = \"spam\"\n",
    "\n",
    "spam_df['length'] = spam_df['message'].map(lambda text: len(text))\n",
    "print(spam_df.head())\n",
    "\n",
    "ham_df = pd.DataFrame(mlist_ham, columns=[\"message\"])\n",
    "ham_df[\"label\"] = \"ham\"\n",
    "\n",
    "ham_df['length'] = ham_df['message'].map(lambda text: len(text))\n",
    "print(ham_df.head())"
   ]
  },
  {
   "cell_type": "code",
   "execution_count": 90,
   "metadata": {
    "collapsed": false
   },
   "outputs": [
    {
     "data": {
      "text/plain": [
       "983"
      ]
     },
     "execution_count": 90,
     "metadata": {},
     "output_type": "execute_result"
    }
   ],
   "source": [
    "#merge and shuffle dataframes for ham/spam mails\n",
    "mail_df = pd.concat([spam_df,ham_df])\n",
    "from sklearn.utils import shuffle\n",
    "mail_df = shuffle(mail_df)\n",
    "len(mail_df)"
   ]
  },
  {
   "cell_type": "code",
   "execution_count": 91,
   "metadata": {
    "collapsed": true
   },
   "outputs": [],
   "source": [
    "mail_train, mail_test, y_train, y_test = train_test_split(mail_df['message'],mail_df['label'],test_size=0.33, random_state=42)"
   ]
  },
  {
   "cell_type": "code",
   "execution_count": 92,
   "metadata": {
    "collapsed": true
   },
   "outputs": [],
   "source": [
    "#for each word in the email text, get the base form of the word and return the list of base words\n",
    "def split_into_lemmas(message):\n",
    "    message = message.lower()\n",
    "    words = TextBlob(message).words\n",
    "    # for each word, take its \"base form\" = lemma \n",
    "    return [word.lemma for word in words]"
   ]
  },
  {
   "cell_type": "code",
   "execution_count": 93,
   "metadata": {
    "collapsed": true
   },
   "outputs": [],
   "source": [
    "#function to apply the count vectorizer(BOW) and TF-IDF transforms to a set of input features\n",
    "def features_transform(mail):\n",
    "    #get the bag of words for the mail text\n",
    "    bow_transformer = CountVectorizer(analyzer=split_into_lemmas).fit(mail_train)\n",
    "    #print(len(bow_transformer.vocabulary_))\n",
    "    messages_bow = bow_transformer.transform(mail)\n",
    "    #print sparsity value\n",
    "    print('sparse matrix shape:', messages_bow.shape)\n",
    "    print('number of non-zeros:', messages_bow.nnz) \n",
    "    print('sparsity: %.2f%%' % (100.0 * messages_bow.nnz / (messages_bow.shape[0] * messages_bow.shape[1])))\n",
    "    #apply the TF-IDF transform to the output of BOW\n",
    "    tfidf_transformer = TfidfTransformer().fit(messages_bow)\n",
    "    messages_tfidf = tfidf_transformer.transform(messages_bow)\n",
    "    #print(messages_tfidf.shape)\n",
    "    #return result of transforms\n",
    "    return messages_tfidf"
   ]
  },
  {
   "cell_type": "code",
   "execution_count": 94,
   "metadata": {
    "collapsed": false
   },
   "outputs": [
    {
     "name": "stdout",
     "output_type": "stream",
     "text": [
      "sparse matrix shape: (658, 10358)\n",
      "number of non-zeros: 36081\n",
      "sparsity: 0.53%\n"
     ]
    }
   ],
   "source": [
    "#transform training set features into a set of useful features to build models\n",
    "train_features=features_transform(mail_train)"
   ]
  },
  {
   "cell_type": "code",
   "execution_count": 1,
   "metadata": {
    "collapsed": true
   },
   "outputs": [],
   "source": [
    "#function which takes in y test value and y predicted value and prints the associated model performance metrics\n",
    "def model_assessment(y_test,predicted_class):\n",
    "    print('confusion matrix')\n",
    "    print(confusion_matrix(y_test,predicted_class))\n",
    "    print('accuracy')\n",
    "    print(accuracy_score(y_test,predicted_class))\n",
    "    print('precision')\n",
    "    print(precision_score(y_test,predicted_class,pos_label='spam'))\n",
    "    print('recall')\n",
    "    print(recall_score(y_test,predicted_class,pos_label='spam'))\n",
    "    print('f-Score')\n",
    "    print(f1_score(y_test,predicted_class,pos_label='spam'))\n",
    "    print('AUC')\n",
    "    print(roc_auc_score(np.where(y_test=='spam',1,0),np.where(predicted_class=='spam',1,0)))\n",
    "    plt.matshow(confusion_matrix(y_test, predicted_class), cmap=plt.cm.binary, interpolation='nearest')\n",
    "    plt.title('confusion matrix')\n",
    "    plt.colorbar()\n",
    "    plt.ylabel('expected label')\n",
    "    plt.xlabel('predicted label')"
   ]
  },
  {
   "cell_type": "markdown",
   "metadata": {},
   "source": [
    "# Naive Bayes Model"
   ]
  },
  {
   "cell_type": "code",
   "execution_count": 95,
   "metadata": {
    "collapsed": true
   },
   "outputs": [],
   "source": [
    "#create and fit NB model\n",
    "modelNB=MultinomialNB()"
   ]
  },
  {
   "cell_type": "code",
   "execution_count": 96,
   "metadata": {
    "collapsed": false
   },
   "outputs": [
    {
     "data": {
      "text/plain": [
       "MultinomialNB(alpha=1.0, class_prior=None, fit_prior=True)"
      ]
     },
     "execution_count": 96,
     "metadata": {},
     "output_type": "execute_result"
    }
   ],
   "source": [
    "modelNB.fit(train_features,y_train)"
   ]
  },
  {
   "cell_type": "code",
   "execution_count": 97,
   "metadata": {
    "collapsed": false
   },
   "outputs": [
    {
     "name": "stdout",
     "output_type": "stream",
     "text": [
      "sparse matrix shape: (325, 10358)\n",
      "number of non-zeros: 13600\n",
      "sparsity: 0.40%\n"
     ]
    }
   ],
   "source": [
    "#transform test features to test the model performance\n",
    "test_features=features_transform(mail_test)"
   ]
  },
  {
   "cell_type": "code",
   "execution_count": 98,
   "metadata": {
    "collapsed": true
   },
   "outputs": [],
   "source": [
    "#NB predictions\n",
    "predicted_class_NB=modelNB.predict(test_features)"
   ]
  },
  {
   "cell_type": "code",
   "execution_count": 189,
   "metadata": {
    "collapsed": false
   },
   "outputs": [
    {
     "name": "stdout",
     "output_type": "stream",
     "text": [
      "confusion matrix\n",
      "[[199   3]\n",
      " [ 78  45]]\n",
      "accuracy\n",
      "0.750769230769\n",
      "precision\n",
      "0.9375\n",
      "recall\n",
      "0.365853658537\n",
      "f-Score\n",
      "0.526315789474\n",
      "AUC\n",
      "0.675501086694\n"
     ]
    },
    {
     "data": {
      "image/png": "[encoded data removed]",
      "text/plain": [
       "<matplotlib.figure.Figure at 0x21a313f5f60>"
      ]
     },
     "metadata": {},
     "output_type": "display_data"
    }
   ],
   "source": [
    "#assess NB\n",
    "model_assessment(y_test,predicted_class_NB)"
   ]
  },
  {
   "cell_type": "markdown",
   "metadata": {},
   "source": [
    "# Decision Tree Model"
   ]
  },
  {
   "cell_type": "code",
   "execution_count": 190,
   "metadata": {
    "collapsed": true
   },
   "outputs": [],
   "source": [
    "#create and fit tree model\n",
    "model_tree=DecisionTreeClassifier()"
   ]
  },
  {
   "cell_type": "code",
   "execution_count": 191,
   "metadata": {
    "collapsed": false
   },
   "outputs": [
    {
     "data": {
      "text/plain": [
       "DecisionTreeClassifier(class_weight=None, criterion='gini', max_depth=None,\n",
       "            max_features=None, max_leaf_nodes=None,\n",
       "            min_impurity_decrease=0.0, min_impurity_split=None,\n",
       "            min_samples_leaf=1, min_samples_split=2,\n",
       "            min_weight_fraction_leaf=0.0, presort=False, random_state=None,\n",
       "            splitter='best')"
      ]
     },
     "execution_count": 191,
     "metadata": {},
     "output_type": "execute_result"
    }
   ],
   "source": [
    "model_tree.fit(train_features,y_train)"
   ]
  },
  {
   "cell_type": "code",
   "execution_count": 192,
   "metadata": {
    "collapsed": true
   },
   "outputs": [],
   "source": [
    "#run model on test and print metrics\n",
    "predicted_class_tree=model_tree.predict(test_features)"
   ]
  },
  {
   "cell_type": "code",
   "execution_count": 193,
   "metadata": {
    "collapsed": false
   },
   "outputs": [
    {
     "name": "stdout",
     "output_type": "stream",
     "text": [
      "confusion matrix\n",
      "[[136  66]\n",
      " [ 46  77]]\n",
      "accuracy\n",
      "0.655384615385\n",
      "precision\n",
      "0.538461538462\n",
      "recall\n",
      "0.626016260163\n",
      "f-Score\n",
      "0.578947368421\n",
      "AUC\n",
      "0.649641793448\n"
     ]
    },
    {
     "data": {
      "image/png": "[encoded data removed]",
      "text/plain": [
       "<matplotlib.figure.Figure at 0x21a3141c550>"
      ]
     },
     "metadata": {},
     "output_type": "display_data"
    }
   ],
   "source": [
    "model_assessment(y_test,predicted_class_tree)"
   ]
  },
  {
   "cell_type": "markdown",
   "metadata": {},
   "source": [
    "# Support Vector Machine"
   ]
  },
  {
   "cell_type": "code",
   "execution_count": 194,
   "metadata": {
    "collapsed": true
   },
   "outputs": [],
   "source": [
    "#create and fit SVM model\n",
    "model_svm=SVC()"
   ]
  },
  {
   "cell_type": "code",
   "execution_count": 195,
   "metadata": {
    "collapsed": false
   },
   "outputs": [
    {
     "data": {
      "text/plain": [
       "SVC(C=1.0, cache_size=200, class_weight=None, coef0=0.0,\n",
       "  decision_function_shape='ovr', degree=3, gamma='auto', kernel='rbf',\n",
       "  max_iter=-1, probability=False, random_state=None, shrinking=True,\n",
       "  tol=0.001, verbose=False)"
      ]
     },
     "execution_count": 195,
     "metadata": {},
     "output_type": "execute_result"
    }
   ],
   "source": [
    "model_svm.fit(train_features,y_train)"
   ]
  },
  {
   "cell_type": "code",
   "execution_count": 196,
   "metadata": {
    "collapsed": true
   },
   "outputs": [],
   "source": [
    "#run model on test and print metrics\n",
    "predicted_class_svm=model_svm.predict(test_features)"
   ]
  },
  {
   "cell_type": "code",
   "execution_count": 197,
   "metadata": {
    "collapsed": false
   },
   "outputs": [
    {
     "name": "stdout",
     "output_type": "stream",
     "text": [
      "confusion matrix\n",
      "[[202   0]\n",
      " [123   0]]\n",
      "accuracy\n",
      "0.621538461538\n",
      "precision\n",
      "0.0\n",
      "recall\n",
      "0.0\n",
      "f-Score\n",
      "0.0\n",
      "AUC\n",
      "0.5\n"
     ]
    },
    {
     "name": "stderr",
     "output_type": "stream",
     "text": [
      "C:\\Users\\iGuest\\Anaconda3\\lib\\site-packages\\sklearn\\metrics\\classification.py:1135: UndefinedMetricWarning: Precision is ill-defined and being set to 0.0 due to no predicted samples.\n",
      "  'precision', 'predicted', average, warn_for)\n",
      "C:\\Users\\iGuest\\Anaconda3\\lib\\site-packages\\sklearn\\metrics\\classification.py:1135: UndefinedMetricWarning: F-score is ill-defined and being set to 0.0 due to no predicted samples.\n",
      "  'precision', 'predicted', average, warn_for)\n"
     ]
    },
    {
     "data": {
      "image/png": "[encoded data removed]",
      "text/plain": [
       "<matplotlib.figure.Figure at 0x21a3231a588>"
      ]
     },
     "metadata": {},
     "output_type": "display_data"
    }
   ],
   "source": [
    "model_assessment(y_test,predicted_class_svm)"
   ]
  },
  {
   "cell_type": "markdown",
   "metadata": {
    "collapsed": true
   },
   "source": [
    "# Random Forest"
   ]
  },
  {
   "cell_type": "code",
   "execution_count": 198,
   "metadata": {
    "collapsed": true
   },
   "outputs": [],
   "source": [
    "from sklearn.ensemble import RandomForestClassifier"
   ]
  },
  {
   "cell_type": "code",
   "execution_count": 199,
   "metadata": {
    "collapsed": true
   },
   "outputs": [],
   "source": [
    "#create and fit model\n",
    "model_rf=RandomForestClassifier(n_estimators=20,criterion='entropy')"
   ]
  },
  {
   "cell_type": "code",
   "execution_count": 200,
   "metadata": {
    "collapsed": false
   },
   "outputs": [
    {
     "data": {
      "text/plain": [
       "RandomForestClassifier(bootstrap=True, class_weight=None, criterion='entropy',\n",
       "            max_depth=None, max_features='auto', max_leaf_nodes=None,\n",
       "            min_impurity_decrease=0.0, min_impurity_split=None,\n",
       "            min_samples_leaf=1, min_samples_split=2,\n",
       "            min_weight_fraction_leaf=0.0, n_estimators=20, n_jobs=1,\n",
       "            oob_score=False, random_state=None, verbose=0,\n",
       "            warm_start=False)"
      ]
     },
     "execution_count": 200,
     "metadata": {},
     "output_type": "execute_result"
    }
   ],
   "source": [
    "model_rf.fit(train_features,y_train)"
   ]
  },
  {
   "cell_type": "code",
   "execution_count": 201,
   "metadata": {
    "collapsed": true
   },
   "outputs": [],
   "source": [
    "#run model on test and print metrics\n",
    "predicted_class_rf=model_rf.predict(test_features)"
   ]
  },
  {
   "cell_type": "code",
   "execution_count": 202,
   "metadata": {
    "collapsed": false
   },
   "outputs": [
    {
     "name": "stdout",
     "output_type": "stream",
     "text": [
      "confusion matrix\n",
      "[[182  20]\n",
      " [ 52  71]]\n",
      "accuracy\n",
      "0.778461538462\n",
      "precision\n",
      "0.78021978022\n",
      "recall\n",
      "0.577235772358\n",
      "f-Score\n",
      "0.663551401869\n",
      "AUC\n",
      "0.739112935684\n"
     ]
    },
    {
     "data": {
      "image/png": "[encoded data removed]",
      "text/plain": [
       "<matplotlib.figure.Figure at 0x21a2fb7f898>"
      ]
     },
     "metadata": {},
     "output_type": "display_data"
    }
   ],
   "source": [
    "model_assessment(y_test,predicted_class_rf)"
   ]
  },
  {
   "cell_type": "markdown",
   "metadata": {},
   "source": []
  }
 ],
 "metadata": {
  "kernelspec": {
   "display_name": "Python 3",
   "language": "python",
   "name": "python3"
  },
  "language_info": {
   "codemirror_mode": {
    "name": "ipython",
    "version": 3
   },
   "file_extension": ".py",
   "mimetype": "text/x-python",
   "name": "python",
   "nbconvert_exporter": "python",
   "pygments_lexer": "ipython3",
   "version": "3.6.0"
  }
 },
 "nbformat": 4,
 "nbformat_minor": 2
}
